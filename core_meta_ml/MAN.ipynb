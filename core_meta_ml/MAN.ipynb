{
  "cells": [
    {
      "cell_type": "markdown",
      "metadata": {
        "colab_type": "text",
        "id": "view-in-github"
      },
      "source": [
        "<a href=\"https://colab.research.google.com/github/gmshroff/metaLearning2022/blob/main/code/nb3_MAN.ipynb\" target=\"_parent\"><img src=\"https://colab.research.google.com/assets/colab-badge.svg\" alt=\"Open In Colab\"/></a>"
      ]
    },
    {
      "cell_type": "markdown",
      "metadata": {
        "id": "_PDmWtkDbosK"
      },
      "source": [
        "# METRIC-BASED META-LEARNING using Matching Networks"
      ]
    },
    {
      "cell_type": "code",
      "execution_count": null,
      "metadata": {
        "id": "Szx_a_f5bosL"
      },
      "outputs": [],
      "source": [
        "# !pip install import_ipynb --quiet"
      ]
    },
    {
      "cell_type": "code",
      "execution_count": null,
      "metadata": {
        "id": "MojTqA5dbosL"
      },
      "outputs": [],
      "source": [
        "# !pip install learn2learn --quiet"
      ]
    },
    {
      "cell_type": "code",
      "execution_count": null,
      "metadata": {
        "id": "LoWwVvM1b9NQ"
      },
      "outputs": [],
      "source": [
        "# import requests"
      ]
    },
    {
      "cell_type": "code",
      "execution_count": null,
      "metadata": {
        "id": "YV3QNubScCP_"
      },
      "outputs": [],
      "source": [
        "# r=requests.get(\"https://github.com/gmshroff/metaLearning2022/blob/main/code/utils.ipynb?raw=true\")\n",
        "# with open('./utils.ipynb','wb') as f: f.write(r.content)"
      ]
    },
    {
      "cell_type": "code",
      "execution_count": null,
      "metadata": {
        "id": "Zd2OtF1hcFCo"
      },
      "outputs": [],
      "source": [
        "# r=requests.get(\"https://github.com/gmshroff/metaLearning2022/blob/main/code/l2lutils.ipynb?raw=true\")\n",
        "# with open('./l2lutils.ipynb','wb') as f: f.write(r.content)"
      ]
    },
    {
      "cell_type": "code",
      "execution_count": 6,
      "metadata": {
        "id": "1UzmWPg8bosL"
      },
      "outputs": [
        {
          "name": "stdout",
          "output_type": "stream",
          "text": [
            "importing Jupyter notebook from utils.ipynb\n"
          ]
        }
      ],
      "source": [
        "import import_ipynb\n",
        "import utils"
      ]
    },
    {
      "cell_type": "code",
      "execution_count": 7,
      "metadata": {
        "id": "KDuHjiCjbosM"
      },
      "outputs": [
        {
          "name": "stdout",
          "output_type": "stream",
          "text": [
            "importing Jupyter notebook from l2lutils.ipynb\n"
          ]
        },
        {
          "name": "stderr",
          "output_type": "stream",
          "text": [
            "\n"
          ]
        }
      ],
      "source": [
        "from IPython import display\n",
        "import torch\n",
        "from sklearn.manifold import TSNE\n",
        "from matplotlib import pyplot as plt\n",
        "from l2lutils import KShotLoader\n",
        "from IPython import display"
      ]
    },
    {
      "cell_type": "code",
      "execution_count": 8,
      "metadata": {},
      "outputs": [
        {
          "name": "stdout",
          "output_type": "stream",
          "text": [
            "importing Jupyter notebook from models.ipynb\n"
          ]
        }
      ],
      "source": [
        "import models"
      ]
    },
    {
      "cell_type": "markdown",
      "metadata": {
        "id": "8K3QHa-KbosM",
        "tags": []
      },
      "source": [
        "# Data Generation and Loading"
      ]
    },
    {
      "cell_type": "code",
      "execution_count": 9,
      "metadata": {
        "id": "XQiaRnFcbosM"
      },
      "outputs": [],
      "source": [
        "#Generate data - euclidean\n",
        "meta_train_ds, meta_test_ds, full_loader = utils.euclideanDataset(n_samples=10000,n_features=20,n_classes=10,batch_size=32)"
      ]
    },
    {
      "cell_type": "code",
      "execution_count": 5,
      "metadata": {
        "id": "B_JgyZRybosM"
      },
      "outputs": [],
      "source": [
        "# Define an MLP network. Note that input dimension has to be data dimension. For classification\n",
        "# final dimension has to be number of classes; for regression one.\n",
        "#torch.manual_seed(10)\n",
        "net = models.MLP(dims=[20,32,32,10])"
      ]
    },
    {
      "cell_type": "code",
      "execution_count": 6,
      "metadata": {
        "id": "SJFSz-07bosM"
      },
      "outputs": [
        {
          "name": "stdout",
          "output_type": "stream",
          "text": [
            "Epoch   49 Loss: 4.59505e-02 Accuracy: 0.99255\n"
          ]
        }
      ],
      "source": [
        "# Train the network; note that network is trained in place so repeated calls further train it.\n",
        "net,loss,accs=models.Train(net,full_loader,lr=1e-2,epochs=50,verbose=True)"
      ]
    },
    {
      "cell_type": "code",
      "execution_count": 7,
      "metadata": {
        "id": "gh9cJpWQbosM"
      },
      "outputs": [
        {
          "name": "stdout",
          "output_type": "stream",
          "text": [
            "7448.0 7500\n"
          ]
        },
        {
          "data": {
            "text/plain": [
              "0.9930666666666667"
            ]
          },
          "execution_count": 7,
          "metadata": {},
          "output_type": "execute_result"
        }
      ],
      "source": [
        "#Training accuracy.\n",
        "models.accuracy(net,meta_train_ds.samples,meta_train_ds.labels,verbose=True)"
      ]
    },
    {
      "cell_type": "code",
      "execution_count": 8,
      "metadata": {
        "id": "nolYYvywbosN"
      },
      "outputs": [
        {
          "name": "stdout",
          "output_type": "stream",
          "text": [
            "2425.0 2500\n"
          ]
        },
        {
          "data": {
            "text/plain": [
              "0.97"
            ]
          },
          "execution_count": 8,
          "metadata": {},
          "output_type": "execute_result"
        }
      ],
      "source": [
        "# Test accuracy.\n",
        "models.accuracy(net,meta_test_ds.samples,meta_test_ds.labels)"
      ]
    },
    {
      "cell_type": "markdown",
      "metadata": {
        "id": "Z4LNvrNdbosN"
      },
      "source": [
        "# Meta-Learning: Tasks"
      ]
    },
    {
      "cell_type": "markdown",
      "metadata": {
        "id": "RJr9JhFIbosN"
      },
      "source": [
        "Generate a k-shot n-way loader using the meta-training dataset"
      ]
    },
    {
      "cell_type": "code",
      "execution_count": null,
      "metadata": {
        "id": "9wyECQYZbosN"
      },
      "outputs": [],
      "source": [
        "meta_train_kloader=KShotLoader(meta_train_ds,shots=5,ways=5)"
      ]
    },
    {
      "cell_type": "markdown",
      "metadata": {
        "id": "ch3L_gSCbosN"
      },
      "source": [
        "Sample a task - each task has a k-shot n-way training set and a similar test set"
      ]
    },
    {
      "cell_type": "code",
      "execution_count": 6,
      "metadata": {
        "id": "DE8Yzdx-bosN"
      },
      "outputs": [],
      "source": [
        "d_train,d_test=meta_train_kloader.get_task()"
      ]
    },
    {
      "cell_type": "markdown",
      "metadata": {
        "id": "pswntXDabosN"
      },
      "source": [
        "Let's try directly learning using the task training set albeit its small size: create a dataset and loader and train it with the earlier network and Train function."
      ]
    },
    {
      "cell_type": "code",
      "execution_count": 7,
      "metadata": {
        "id": "y6dIzT2ObosN"
      },
      "outputs": [],
      "source": [
        "taskds = utils.MyDS(d_train[0],d_train[1])"
      ]
    },
    {
      "cell_type": "code",
      "execution_count": 8,
      "metadata": {
        "id": "T8Rk18irbosN"
      },
      "outputs": [],
      "source": [
        "d_train_loader = torch.utils.data.DataLoader(dataset=taskds,batch_size=1,shuffle=True)"
      ]
    },
    {
      "cell_type": "code",
      "execution_count": null,
      "metadata": {
        "id": "9Foec5R8bosO"
      },
      "outputs": [],
      "source": [
        "net,loss,accs=models.Train(net,d_train_loader,lr=1e-1,epochs=10,verbose=False)"
      ]
    },
    {
      "cell_type": "markdown",
      "metadata": {
        "id": "lbajCkMubosO"
      },
      "source": [
        "How does it do on the test set of the sampled task?"
      ]
    },
    {
      "cell_type": "code",
      "execution_count": 14,
      "metadata": {
        "id": "VZcxwpltbosO"
      },
      "outputs": [
        {
          "name": "stdout",
          "output_type": "stream",
          "text": [
            "24.0 25\n"
          ]
        },
        {
          "data": {
            "text/plain": [
              "0.96"
            ]
          },
          "execution_count": 14,
          "metadata": {},
          "output_type": "execute_result"
        }
      ],
      "source": [
        "models.accuracy(net,d_test[0],d_test[1])"
      ]
    },
    {
      "cell_type": "markdown",
      "metadata": {
        "id": "xutxzV0YbosO"
      },
      "source": [
        "# Matching Networks"
      ]
    },
    {
      "cell_type": "code",
      "execution_count": 10,
      "metadata": {
        "id": "lOmwgzPKbosO"
      },
      "outputs": [],
      "source": [
        "import learn2learn as l2l\n",
        "import torch.optim as optim\n",
        "import torch.nn as nn\n",
        "import torch.nn.functional as F"
      ]
    },
    {
      "cell_type": "markdown",
      "metadata": {
        "id": "jOO4Qdd-bosO"
      },
      "source": [
        "Sampling a training task: Note that each of d_train and d_test is a tuple comprising of a training set, and labels."
      ]
    },
    {
      "cell_type": "code",
      "execution_count": null,
      "metadata": {
        "id": "Hy4NmRIcbosO"
      },
      "outputs": [],
      "source": [
        "meta_train_kloader=KShotLoader(meta_train_ds,shots=5,ways=5)"
      ]
    },
    {
      "cell_type": "code",
      "execution_count": 83,
      "metadata": {
        "id": "GJzXBaQZbosO"
      },
      "outputs": [],
      "source": [
        "d_train,d_test=meta_train_kloader.get_task()"
      ]
    },
    {
      "cell_type": "code",
      "execution_count": 84,
      "metadata": {
        "id": "YYT1J46VbosO"
      },
      "outputs": [],
      "source": [
        "lossfn = torch.nn.NLLLoss()"
      ]
    },
    {
      "cell_type": "code",
      "execution_count": 14,
      "metadata": {
        "id": "X4dnLVUeeWi6"
      },
      "outputs": [],
      "source": [
        "# from google.colab import drive\n",
        "# drive.mount('/content/drive')\n",
        "# %ls drive/MyDrive/'Colab Notebooks'"
      ]
    },
    {
      "cell_type": "code",
      "execution_count": 15,
      "metadata": {
        "id": "65WFLhUaeeJg"
      },
      "outputs": [],
      "source": [
        "# !cp drive/MyDrive/'Colab Notebooks'/models.ipynb .\n",
        "# !cp drive/MyDrive/'Colab Notebooks'/MAN.ipynb ."
      ]
    },
    {
      "cell_type": "code",
      "execution_count": 85,
      "metadata": {
        "id": "pUMywqEseNnP"
      },
      "outputs": [],
      "source": [
        "import models"
      ]
    },
    {
      "cell_type": "markdown",
      "metadata": {
        "id": "fRbMwPgrbosO"
      },
      "source": [
        "This will be the class implementing Matching networks that you need to write for hw3"
      ]
    },
    {
      "cell_type": "code",
      "execution_count": 86,
      "metadata": {
        "id": "eMlNCKi7bosO"
      },
      "outputs": [],
      "source": [
        "import MAN\n",
        "import importlib\n",
        "importlib.reload(MAN)\n",
        "\n",
        "from MAN import MAN"
      ]
    },
    {
      "cell_type": "code",
      "execution_count": 18,
      "metadata": {
        "id": "1D_SKbdFbosO"
      },
      "outputs": [],
      "source": [
        "X = torch.Tensor([[1,1,1],[-1,-1,-1],[1,2,3],[-1,-2,-3]])\n",
        "y_tr = torch.LongTensor([0,1])\n",
        "x_tr = X[[0,1],:]\n",
        "d_tr = (x_tr, y_tr)"
      ]
    },
    {
      "cell_type": "code",
      "execution_count": 87,
      "metadata": {
        "id": "hyfdcWTfbosO"
      },
      "outputs": [],
      "source": [
        "import MAN\n",
        "import importlib\n",
        "importlib.reload(MAN)\n",
        "\n",
        "from MAN import MAN\n",
        "man = MAN(dims=[3,8,8])"
      ]
    },
    {
      "cell_type": "code",
      "execution_count": 30,
      "metadata": {
        "id": "rX15q0d8bosP"
      },
      "outputs": [
        {
          "name": "stdout",
          "output_type": "stream",
          "text": [
            "batch size: 4 support set size:  2\n",
            "test sample torch.Size([2, 8])\n",
            "support set sample torch.Size([2, 8])\n",
            "test sample torch.Size([2, 8])\n",
            "support set sample torch.Size([2, 8])\n",
            "test sample torch.Size([2, 8])\n",
            "support set sample torch.Size([2, 8])\n",
            "test sample torch.Size([2, 8])\n",
            "support set sample torch.Size([2, 8])\n",
            "torch.Size([4, 2])\n"
          ]
        },
        {
          "data": {
            "text/plain": [
              "tensor([[0.7226, 0.2774],\n",
              "        [0.2774, 0.7226],\n",
              "        [0.7668, 0.2332],\n",
              "        [0.2508, 0.7492]], grad_fn=<StackBackward0>)"
            ]
          },
          "execution_count": 30,
          "metadata": {},
          "output_type": "execute_result"
        }
      ],
      "source": [
        "man(X, d_tr)"
      ]
    },
    {
      "cell_type": "markdown",
      "metadata": {
        "id": "7V3SRHFobosP"
      },
      "source": [
        "# Putting it all together: Training a Matching Network\n",
        "Now let's put all of the above in a loop - training Matching Network algorithm:"
      ]
    },
    {
      "cell_type": "code",
      "execution_count": 11,
      "metadata": {
        "id": "HjDBEKOQbosP"
      },
      "outputs": [],
      "source": [
        "# Redifning accuracy function so that it takes h - dataset context - as input since net requires it.\n",
        "def accuracy(Net,X_test,y_test,h,verbose=True):\n",
        "    #Net.eval()\n",
        "    m = X_test.shape[0]\n",
        "    y_pred = Net(X_test,h)\n",
        "    _, predicted = torch.max(y_pred, 1)\n",
        "    correct = (predicted == y_test).float().sum().item()\n",
        "    if verbose: print(correct,m)\n",
        "    accuracy = correct/m\n",
        "    #Net.train()\n",
        "    return accuracy"
      ]
    },
    {
      "cell_type": "code",
      "execution_count": 27,
      "metadata": {
        "id": "D2J4sp4ibosP"
      },
      "outputs": [
        {
          "data": {
            "text/plain": [
              "([0, 1, 2, 3, 4], [2, 3, 4, 5, 6])"
            ]
          },
          "execution_count": 27,
          "metadata": {},
          "output_type": "execute_result"
        }
      ],
      "source": [
        "classes_train = [i for i in range(5)]\n",
        "classes_test = [i+2 for i in range(5)]\n",
        "classes_train, classes_test"
      ]
    },
    {
      "cell_type": "code",
      "execution_count": 28,
      "metadata": {
        "id": "wI6ziQCKbosP"
      },
      "outputs": [],
      "source": [
        "import MAN\n",
        "import importlib\n",
        "importlib.reload(MAN)\n",
        "\n",
        "from MAN import MAN\n",
        "\n",
        "import learn2learn as l2l\n",
        "import torch.optim as optim\n",
        "shots,ways = 5,5\n",
        "net = MAN(n_classes=ways,dims=[20,64,32],lr=1e-4)\n",
        "lossfn = torch.nn.NLLLoss()\n",
        "meta_train_kloader=KShotLoader(meta_train_ds,shots=shots,ways=ways,num_tasks=1000, classes=classes_train)"
      ]
    },
    {
      "cell_type": "code",
      "execution_count": 29,
      "metadata": {},
      "outputs": [],
      "source": [
        "loss_list = []\n",
        "acc_list  = []"
      ]
    },
    {
      "cell_type": "code",
      "execution_count": 32,
      "metadata": {
        "id": "ICNzWcCTbosP"
      },
      "outputs": [
        {
          "name": "stdout",
          "output_type": "stream",
          "text": [
            "Epoch   99 Loss: -3.50068e-01 Avg Acc: 0.96000\n"
          ]
        }
      ],
      "source": [
        "epoch=0\n",
        "n_epochs=100\n",
        "task_count=50\n",
        "while epoch<n_epochs:\n",
        "    test_loss = 0.0\n",
        "    test_acc = 0.0\n",
        "    # Sample and train on a task\n",
        "    for task in range(task_count):\n",
        "        d_train,d_test=meta_train_kloader.get_task()\n",
        "        rp = torch.randperm(d_train[1].shape[0])\n",
        "        d_train0=d_train[0][rp]\n",
        "        d_train1=d_train[1][rp]\n",
        "        x_tr = d_train0\n",
        "        d_tr = x_tr \n",
        "        rp1 = torch.randperm(d_test[1].shape[0])\n",
        "        d_test0=d_test[0][rp1]\n",
        "        d_test1=d_test[1][rp1]\n",
        "        x_ts = d_test0\n",
        "        d_ts = x_ts \n",
        "        test_preds = net(d_ts,(x_tr,d_train1))\n",
        "        #train_preds = net(d_tr,h)\n",
        "        # Accumulate losses over tasks - note train and test loss both included\n",
        "        test_loss += lossfn(test_preds,d_test1)\n",
        "        net.eval()\n",
        "        test_acc += accuracy(net,d_ts,d_test1,(x_tr,d_train1),verbose=False)\n",
        "        net.train()\n",
        "    #     break\n",
        "    # break\n",
        "    #Update the network weights\n",
        "    print('Epoch  % 2d Loss: %2.5e Avg Acc: %2.5f'%(epoch,test_loss/task_count,test_acc/task_count))\n",
        "\n",
        "    loss_list.append(test_loss/task_count)\n",
        "    acc_list.append(test_acc/task_count)\n",
        "    display.clear_output(wait=True)\n",
        "    net.optimizer.zero_grad()\n",
        "    test_loss.backward()\n",
        "    net.optimizer.step()\n",
        "    epoch+=1\n",
        "    "
      ]
    },
    {
      "cell_type": "markdown",
      "metadata": {
        "id": "ZahrlJJsbosP"
      },
      "source": [
        "Now test the trained matching network and to tasks sampled from the meta_test_ds dataset:"
      ]
    },
    {
      "cell_type": "code",
      "execution_count": 33,
      "metadata": {
        "id": "wrBTgG43bosP"
      },
      "outputs": [
        {
          "name": "stdout",
          "output_type": "stream",
          "text": [
            "Avg Acc: 0.74400\n"
          ]
        }
      ],
      "source": [
        "meta_test_kloader=KShotLoader(meta_test_ds,shots=shots,ways=ways, classes=classes_test)\n",
        "test_acc = 0.0\n",
        "task_count = 50\n",
        "adapt_steps = 1\n",
        "# Sample and train on a task\n",
        "for task in range(task_count):\n",
        "    d_train,d_test=meta_test_kloader.get_task()\n",
        "    x_tr = d_train[0]\n",
        "    y_tr_sh = torch.cat((torch.zeros(1,ways),torch.eye(ways)[d_train[1][1:]]))\n",
        "    d_tr = x_tr #torch.cat((x_tr,y_tr_sh),1)\n",
        "    x_ts = d_test[0]\n",
        "    y_ts_sh = torch.zeros(x_ts.shape[0],ways)\n",
        "    d_ts = x_ts #torch.cat((x_ts,y_ts_sh),1)\n",
        "    test_preds = net(d_ts,(d_tr,d_train[1]))\n",
        "    test_acc += accuracy(net,d_ts,d_test[1],(d_tr,d_train[1]),verbose=False)\n",
        "    # Done with a task\n",
        "net.train()\n",
        "print('Avg Acc: %2.5f'%(test_acc/task_count))"
      ]
    },
    {
      "cell_type": "code",
      "execution_count": 34,
      "metadata": {},
      "outputs": [
        {
          "data": {
            "image/png": "[encoded data removed]",
            "text/plain": [
              "<Figure size 432x288 with 1 Axes>"
            ]
          },
          "metadata": {
            "needs_background": "light"
          },
          "output_type": "display_data"
        },
        {
          "data": {
            "image/png": "[encoded data removed]",
            "text/plain": [
              "<Figure size 432x288 with 1 Axes>"
            ]
          },
          "metadata": {
            "needs_background": "light"
          },
          "output_type": "display_data"
        }
      ],
      "source": [
        "# plotting accuracy and loss\n",
        "import matplotlib.pyplot as plt\n",
        "\n",
        "plt.plot(acc_list)\n",
        "plt.xlabel(\"Iterations\")\n",
        "plt.ylabel(\"Accuracy\")\n",
        "plt.title(\"Iteration vs Accuracy plot\")\n",
        "plt.show()\n",
        "\n",
        "plt.plot(loss_list)\n",
        "plt.xlabel(\"Iterations\")\n",
        "plt.ylabel(\"Loss\")\n",
        "plt.title(\"Iteration vs Loss plot\")\n",
        "plt.show()"
      ]
    },
    {
      "cell_type": "markdown",
      "metadata": {},
      "source": [
        "### Documentation\n",
        "\n",
        "I've documented the training time,loss and accuracy over iteration for all the algorithms and compared it against each other and against MAML. All the values mentioned below are noted from my personal PC with configuration Intel i5-7th Generation CPU.\n",
        "\n",
        "#### Matching Network\n",
        "Total time taken by matching network to get trained is around 261.78 seconds(for 300 iterations). Interestingly the time taken for first 100 iteration is larger than subsequent iterations. The training accuracy started from nearly 70% and went up till 92% within 300 iterations of training. In the first 100 iterations, it touched 84% mark and the subsequent improvements required larger iterations. This might be because of the oscillation around the local minima. The testing accuracy is equally good and around 90%. Plots below have summerized the entire idea.\n",
        "\n",
        "| Iterations      | Time Taken  |\n",
        "| -----------     | ----------- |\n",
        "| 100             | 100.1 s     |\n",
        "| 200             | 82.8 s      |\n",
        "| 300             | 78.9 s      |\n",
        "\n",
        "![ Iteration vs Loss](./plots/man_loss.png \"Iteration vs Loss Plot\")\n",
        "![ Iteration vs Accuracy](./plots/man_acc.png \"Iteration vs Accuracy Plot\")\n",
        "\n",
        "#### CNP\n",
        "Total time taken by CNP to get trained is only 88.7 seconds(for 600 iterations). Although the iterations are more, time taken to complete training is much smaller. Here also the time taken for first 100 iteration is larger than subsequent iterations. The training accuracy started from nearly 50% and went up till 93% within 600 iterations of training. The improvement in the accuracy was uniform, unlike MAN. The testing accuracy is also good and around 92.6%. Plots below have summerized the entire idea.\n",
        "\n",
        "| Iterations      | Time Taken  |\n",
        "| -----------     | ----------- |\n",
        "| 100             | 28.9 s      |\n",
        "| 200             | 11.8 s      |\n",
        "| 300             | 11.9 s      |\n",
        "| 400             | 11.8 s      |\n",
        "| 500             | 12.7 s      |\n",
        "| 600             | 11.7 s      |\n",
        "\n",
        "![ Iteration vs Loss](./plots/cnp_loss.png \"Iteration vs Loss Plot\")\n",
        "![ Iteration vs Accuracy](./plots/cnp_acc.png \"Iteration vs Accuracy Plot\")\n",
        "\n",
        "#### MAML\n",
        "Total time taken by matching network to get trained is around 224.9 seconds(for 700 iterations). The training accuracy started from very low, nearly 20% and went up till 87% within 700 iterations of training. The increase of the accuracy was slow at the beginning and then increased suddenly and then got saturated. The testing accuracy is equally good and around 85.4%. Plots below have summerized the entire idea.\n",
        "\n",
        "![ Iteration vs Loss](./plots/maml_loss.png \"Iteration vs Loss Plot\")\n",
        "![ Iteration vs Accuracy](./plots/maml_acc.png \"Iteration vs Accuracy Plot\")\n",
        "\n",
        "#### Comparision of MAN(Matching Network) and CNP(Conditional Neural Processing) and MAML\n",
        "\n",
        "| Comparision Parameter     |    MAN    |    CNP    |    MAML    |\n",
        "| -----------               | --------- | --------- | ---------- |\n",
        "| Training Time             | 261.78 s  | 88.7 s    | 241.9 s    |\n",
        "| Train Accuracy            | 92.16     | 93.20     | 87.4       |\n",
        "| Accuracy started around   | 70.00     | 50.00     | 20         |\n",
        "| Test Accuracy             | 90.00     | 92.60     | 85.4       |\n",
        "| Epochs Taken              | 300       | 600       | 700        |\n",
        "\n",
        "* Training time of CNP is much lower than the rest two(time to saturate).\n",
        "* Top train accuracy achieved by MAN and CNP is similar, but MAML is a bit lower.\n",
        "* Interestingly, starting point of three network differs by huge margin. Among them, CNP is giving an initial accuracy of 70%(highest). This depicts, CNP is capable of learning faster then the rest two. MAML starts at a very low accuracy point and climbs up till 87%. MAN started from midpint, 50%.\n",
        "* Test accuracy of CNP is higher than both MAML and MAN\n",
        "* Epochs needed to fully train is lowest in MAN, then CNP then MAML. But time taken per epochs is higher in MAN which diminishes this advantage.\n",
        "* CNP has more fluctuations in accuracy as well as loss while training(refer graph)\n",
        "\n",
        "#### Overlapping Analysis\n",
        "\n",
        "##### MAN\n",
        "**1 overlapping class:** \\\n",
        "With 1 overlapping class, the training accuracy touched 92% in the first 100 epochs and then 95% in the second 100 epochs. Time taken to complete these epochs is also a bit less than the non-overlapping case. But, unfortunately, the test accuracy is around 80% and it remain as it is after training the network for another 100 epochs. This is clearly the case of overfitting.\n",
        "\n",
        "**2 overlapping class:** \\\n",
        "With 2 overlapping class, it's more or less same, the accuracy jumped from 77% to 90% in first 100 epochs then to 94 in the next 100. Time taken to complete these epochs is similar to non-overlapping case. But, unfortunately, the test accuracy is around 80% and it remain as it is after training the network for another 100 epochs. Overfitting is happening.\n",
        "\n",
        "**3 overlapping class:** \\\n",
        "Initial results were same as 2 overlappings. But, the time taken to train is significantly higher(2x). It touched the training accuracy of 96% after 200 epochs but testing accuracy was around 79% after first 100 iterations but dropped to 74% after 200 epochs.\n",
        "\n",
        "With increase in number of overlappings, training accuracy is increasing or staying the same. But the testing accuracy is dropping gradually.\n",
        "\n",
        "##### MAN\n",
        "**1 overlapping class:** \\\n",
        "With 1 overlapping, it started with 50% accuracy with almost no moment for first 100 epochs. Then 74% -> 85% and 95% in just 300 to 400 epochs(compared to 600 epochs in non-overlapping case). The test accuracy dropped to 77.2%, which is bad. The training time is also a bit more.\n",
        "\n",
        "**2 overlapping class:** \\\n",
        "It touched 89% training accuracy with 350 epochs and training accuracy is worse among 3 73%.\n",
        "\n",
        "**3 overlapping class:** \\\n",
        "With 3 overlappings, training accuracy reached 91%% with 300 epochs(compared to 400 with 1 overlapping). Also, the test accuracy is 80%, which is a bit better than the 1 overlapping case.\n",
        "\n",
        "With increase in overlappings, the training accuracy randomly fluctuated but the the testing accuracy dropped. With 3, it's coming around 80% which is the highest."
      ]
    }
  ],
  "metadata": {
    "accelerator": "GPU",
    "colab": {
      "include_colab_link": true,
      "name": "nb3-MAN.ipynb",
      "provenance": []
    },
    "kernelspec": {
      "display_name": "Python 3 (ipykernel)",
      "language": "python",
      "name": "python3"
    },
    "language_info": {
      "codemirror_mode": {
        "name": "ipython",
        "version": 3
      },
      "file_extension": ".py",
      "mimetype": "text/x-python",
      "name": "python",
      "nbconvert_exporter": "python",
      "pygments_lexer": "ipython3",
      "version": "3.8.3"
    }
  },
  "nbformat": 4,
  "nbformat_minor": 0
}
