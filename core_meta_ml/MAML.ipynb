{
  "cells": [
    {
      "cell_type": "markdown",
      "metadata": {
        "colab_type": "text",
        "id": "view-in-github"
      },
      "source": [
        "<a href=\"https://colab.research.google.com/github/gmshroff/metaLearning2022/blob/main/code/nb2.ipynb\" target=\"_parent\"><img src=\"https://colab.research.google.com/assets/colab-badge.svg\" alt=\"Open In Colab\"/></a>"
      ]
    },
    {
      "cell_type": "markdown",
      "metadata": {
        "id": "Pa5GVdJI1dhL"
      },
      "source": [
        "# MAML - MODEL-AGNOSTIC META-LEARNING"
      ]
    },
    {
      "cell_type": "code",
      "execution_count": null,
      "metadata": {
        "id": "RLc7IIMF1dhO"
      },
      "outputs": [],
      "source": [
        "# !pip install import_ipynb --quiet"
      ]
    },
    {
      "cell_type": "code",
      "execution_count": null,
      "metadata": {
        "id": "UhuOxjay1dhO"
      },
      "outputs": [],
      "source": [
        "# !pip install learn2learn --quiet"
      ]
    },
    {
      "cell_type": "code",
      "execution_count": 1,
      "metadata": {
        "id": "-d_vlK7d13vJ"
      },
      "outputs": [],
      "source": [
        "# import requests\n",
        "# import pickle"
      ]
    },
    {
      "cell_type": "code",
      "execution_count": 2,
      "metadata": {
        "id": "6bChoZ7912o7"
      },
      "outputs": [],
      "source": [
        "#If on colab:\n",
        "# r=requests.get(\"https://github.com/gmshroff/metaLearning2022/blob/main/code/utils.ipynb?raw=true\")\n",
        "# with open('./utils.ipynb','wb') as f: f.write(r.content)\n",
        "# r=requests.get(\"https://github.com/gmshroff/metaLearning2022/blob/main/code/course_data.ipynb?raw=true\")\n",
        "# with open('./course_data.ipynb','wb') as f: f.write(r.content)\n"
      ]
    },
    {
      "cell_type": "code",
      "execution_count": null,
      "metadata": {
        "id": "8N1mRP1z3iaQ"
      },
      "outputs": [],
      "source": [
        "# r=requests.get(\"https://github.com/gmshroff/metaLearning2022/blob/main/code/l2lutils.ipynb?raw=true\")\n",
        "# with open('./l2lutils.ipynb','wb') as f: f.write(r.content)"
      ]
    },
    {
      "cell_type": "code",
      "execution_count": null,
      "metadata": {
        "id": "4WHIs45n19bt"
      },
      "outputs": [],
      "source": [
        "# from google.colab import drive\n",
        "# drive.mount('/content/drive')\n",
        "# %ls drive/MyDrive/'Colab Notebooks'"
      ]
    },
    {
      "cell_type": "code",
      "execution_count": null,
      "metadata": {
        "id": "7xURmz_G1-L4"
      },
      "outputs": [],
      "source": [
        "# !cp drive/MyDrive/'Colab Notebooks'/models.ipynb ."
      ]
    },
    {
      "cell_type": "code",
      "execution_count": 2,
      "metadata": {
        "id": "lWJRPCsO1dhO"
      },
      "outputs": [
        {
          "name": "stdout",
          "output_type": "stream",
          "text": [
            "importing Jupyter notebook from utils.ipynb\n",
            "importing Jupyter notebook from models.ipynb\n"
          ]
        }
      ],
      "source": [
        "import import_ipynb\n",
        "import utils\n",
        "import models\n",
        "utils.hide_toggle('Imports 1')"
      ]
    },
    {
      "cell_type": "code",
      "execution_count": 3,
      "metadata": {
        "id": "75kCLSpo1dhP"
      },
      "outputs": [
        {
          "name": "stdout",
          "output_type": "stream",
          "text": [
            "importing Jupyter notebook from l2lutils.ipynb\n"
          ]
        }
      ],
      "source": [
        "from IPython import display\n",
        "import torch\n",
        "import torch.nn as nn\n",
        "from sklearn.manifold import TSNE\n",
        "from matplotlib import pyplot as plt\n",
        "from l2lutils import KShotLoader\n",
        "from IPython import display\n",
        "utils.hide_toggle('Imports 2')"
      ]
    },
    {
      "cell_type": "code",
      "execution_count": 4,
      "metadata": {
        "id": "seBbH_9y4SQH"
      },
      "outputs": [
        {
          "name": "stdout",
          "output_type": "stream",
          "text": [
            "importing Jupyter notebook from course_data.ipynb\n"
          ]
        }
      ],
      "source": [
        "#If on colab\n",
        "from course_data import MyDS, ImageData, TsDS, FeedData"
      ]
    },
    {
      "cell_type": "markdown",
      "metadata": {
        "id": "WcFM4Si22dld"
      },
      "source": [
        "# Get Data"
      ]
    },
    {
      "cell_type": "code",
      "execution_count": null,
      "metadata": {
        "id": "87LO-CKa2ld1"
      },
      "outputs": [],
      "source": [
        "#If on Colab/student machine use the next few lines to load image data:\n",
        "r=requests.get(\"https://github.com/gmshroff/metaLearning2022/blob/main/data/image_data.pickle.zip?raw=true\")"
      ]
    },
    {
      "cell_type": "code",
      "execution_count": null,
      "metadata": {
        "id": "FE5m3hWb2m2d"
      },
      "outputs": [],
      "source": [
        "with open('./image_data.pickle.zip','wb') as f: f.write(r.content)\n",
        "!unzip ./image_data.pickle.zip"
      ]
    },
    {
      "cell_type": "code",
      "execution_count": null,
      "metadata": {
        "id": "6i84NR2B2py-"
      },
      "outputs": [],
      "source": [
        "with open('./image_data.pickle','rb') as f: imageData=pickle.load(f)"
      ]
    },
    {
      "cell_type": "markdown",
      "metadata": {
        "id": "qz_c-8Sq1dhP"
      },
      "source": [
        "# Pre-trained Models"
      ]
    },
    {
      "cell_type": "code",
      "execution_count": 5,
      "metadata": {
        "id": "XtFHhHPF1dhQ"
      },
      "outputs": [],
      "source": [
        "#Generate data - euclidean\n",
        "meta_train_ds, meta_test_ds, full_loader = utils.euclideanDataset(n_samples=10000,n_features=20,n_classes=10,batch_size=32)"
      ]
    },
    {
      "cell_type": "code",
      "execution_count": null,
      "metadata": {
        "id": "GJZLg8pQ1dhQ"
      },
      "outputs": [],
      "source": [
        "meta_train_ds,meta_test_ds,mapping,full_loader=imageData.train_ds,imageData.test_ds,imageData.mapping,imageData.dloader"
      ]
    },
    {
      "cell_type": "code",
      "execution_count": null,
      "metadata": {
        "id": "XrrwgPQd1dhQ"
      },
      "outputs": [],
      "source": [
        "# Define an MLP network. Note that input dimension has to be data dimension. For classification\n",
        "# final dimension has to be number of classes; for regression one.\n",
        "#torch.manual_seed(10)\n",
        "#net0 = models.MLP(dims=[20,32,32,10])\n",
        "net0 = models.MLP(dims=[400,64,32,len(mapping.keys())])"
      ]
    },
    {
      "cell_type": "code",
      "execution_count": null,
      "metadata": {
        "id": "xKo0Fyev1dhR"
      },
      "outputs": [],
      "source": [
        "# Train the network; note that network is trained in place so repeated calls further train it.\n",
        "net0,loss,accs=models.Train(net0,full_loader,lr=1e-3,epochs=10,verbose=True)"
      ]
    },
    {
      "cell_type": "code",
      "execution_count": null,
      "metadata": {
        "id": "sNieUD4s1dhR"
      },
      "outputs": [],
      "source": [
        "#Training accuracy.\n",
        "models.accuracy(net0,meta_train_ds.samples,meta_train_ds.labels,verbose=True)"
      ]
    },
    {
      "cell_type": "code",
      "execution_count": null,
      "metadata": {
        "id": "V507W4Qn1dhR"
      },
      "outputs": [],
      "source": [
        "# Test accuracy.\n",
        "models.accuracy(net0,meta_test_ds.samples,meta_test_ds.labels)"
      ]
    },
    {
      "cell_type": "code",
      "execution_count": null,
      "metadata": {
        "id": "Vu0kHrI61dhR"
      },
      "outputs": [],
      "source": [
        "len(mapping.keys())"
      ]
    },
    {
      "cell_type": "markdown",
      "metadata": {
        "id": "hkPojWSl1dhR"
      },
      "source": [
        "# Second-order Differentiation using Autograd"
      ]
    },
    {
      "cell_type": "markdown",
      "metadata": {
        "id": "jN4qmFhZ1dhS"
      },
      "source": [
        "Second-order derivatives as needed for MAML"
      ]
    },
    {
      "cell_type": "code",
      "execution_count": null,
      "metadata": {
        "id": "rwaukhc61dhS"
      },
      "outputs": [],
      "source": [
        "network = (lambda x,w: x@w)\n",
        "loss = torch.nn.MSELoss()"
      ]
    },
    {
      "cell_type": "code",
      "execution_count": null,
      "metadata": {
        "id": "HG2V_Kdn1dhS"
      },
      "outputs": [],
      "source": [
        "Z=(torch.ones(3,1)).float()\n",
        "z=(torch.ones(3,1)*2).float()"
      ]
    },
    {
      "cell_type": "code",
      "execution_count": null,
      "metadata": {
        "id": "hCW_-ble1dhS"
      },
      "outputs": [],
      "source": [
        "Zt=(torch.ones(3,1)*1.5).float()\n",
        "zt=(torch.ones(3,1)*2*1.5).float()"
      ]
    },
    {
      "cell_type": "code",
      "execution_count": null,
      "metadata": {
        "id": "D0y8ixP91dhS"
      },
      "outputs": [],
      "source": [
        "w0=(torch.ones(1,1,requires_grad=True)).float()"
      ]
    },
    {
      "cell_type": "code",
      "execution_count": null,
      "metadata": {
        "id": "qNEYoDBX1dhS"
      },
      "outputs": [],
      "source": [
        "w1=w0.clone()"
      ]
    },
    {
      "cell_type": "code",
      "execution_count": null,
      "metadata": {
        "id": "L08I5G181dhS"
      },
      "outputs": [],
      "source": [
        "L=loss(network(Z,w1),z)"
      ]
    },
    {
      "cell_type": "code",
      "execution_count": null,
      "metadata": {
        "id": "6iOjA3gB1dhT"
      },
      "outputs": [],
      "source": [
        "#g=torch.autograd.grad(L,w0)[0]\n",
        "g=torch.autograd.grad(L,w1,create_graph=True)[0]\n",
        "#L.backward(create_graph=True)# Not good"
      ]
    },
    {
      "cell_type": "code",
      "execution_count": null,
      "metadata": {
        "id": "ForDE6Nd1dhU"
      },
      "outputs": [],
      "source": [
        "w1.grad, w0.grad, L, w0, w1,w1.requires_grad,g"
      ]
    },
    {
      "cell_type": "code",
      "execution_count": null,
      "metadata": {
        "id": "6osHThu71dhU"
      },
      "outputs": [],
      "source": [
        "w1 = w1 - 0.1*g"
      ]
    },
    {
      "cell_type": "code",
      "execution_count": null,
      "metadata": {
        "id": "iWRJUeR71dhU"
      },
      "outputs": [],
      "source": [
        "L1=loss(network(Zt,w1),zt)\n",
        "#L1=loss(net(Zt,w0-0.1*(2.0*(w0-2.0))),zt)"
      ]
    },
    {
      "cell_type": "code",
      "execution_count": null,
      "metadata": {
        "id": "P2mx-mdt1dhU"
      },
      "outputs": [],
      "source": [
        "# Both OK - latter used with optimizer.step()\n",
        "g1=torch.autograd.grad(L1,w0)[0]\n",
        "#L1.backward()"
      ]
    },
    {
      "cell_type": "code",
      "execution_count": null,
      "metadata": {
        "id": "WnuSZcD61dhU"
      },
      "outputs": [],
      "source": [
        "g1"
      ]
    },
    {
      "cell_type": "markdown",
      "metadata": {
        "id": "VglIzSwP1dhU"
      },
      "source": [
        "Working this out manually:"
      ]
    },
    {
      "cell_type": "markdown",
      "metadata": {
        "id": "FXkTpRGP1dhU"
      },
      "source": [
        "$w_0=1, L=(w_0-2)^2, dL=2\\times(w_0-2)=-2,w_1=w_0-0.1\\times(-2)=1.2$"
      ]
    },
    {
      "cell_type": "markdown",
      "metadata": {
        "id": "olkhaz0P1dhU"
      },
      "source": [
        "$L_1=(w_1\\times1.5-3)^2 = (w_0-0.1\\times(2\\times(w_0-2))\\times1.5-3)^2 = (-1.2)^2$"
      ]
    },
    {
      "cell_type": "markdown",
      "metadata": {
        "id": "JIGfBmaE1dhU"
      },
      "source": [
        "$dL_1 = 2 \\times (-1.2) \\times (1.5 \\times (1-.2))$"
      ]
    },
    {
      "cell_type": "code",
      "execution_count": null,
      "metadata": {
        "id": "UU4fhxj51dhU"
      },
      "outputs": [],
      "source": [
        "2*(-1.2)*(1.5*(1-.2))"
      ]
    },
    {
      "cell_type": "code",
      "execution_count": null,
      "metadata": {
        "id": "Jb0NZIjF1dhU"
      },
      "outputs": [],
      "source": [
        "w0.grad,w1.grad"
      ]
    },
    {
      "cell_type": "markdown",
      "metadata": {
        "id": "Y4O4etDg1dhU"
      },
      "source": [
        "# Meta-Learning: Tasks"
      ]
    },
    {
      "cell_type": "markdown",
      "metadata": {
        "id": "AJ3cPWsX1dhV"
      },
      "source": [
        "Generate a k-shot n-way loader using the meta-training dataset"
      ]
    },
    {
      "cell_type": "code",
      "execution_count": 9,
      "metadata": {
        "id": "l0xoyHhO1dhV"
      },
      "outputs": [
        {
          "data": {
            "text/plain": [
              "([0, 1, 2, 3, 4], [5, 6, 7, 8, 9])"
            ]
          },
          "execution_count": 9,
          "metadata": {},
          "output_type": "execute_result"
        }
      ],
      "source": [
        "classes_train = [i for i in range(5)]\n",
        "classes_test = [i+5 for i in range(5)]\n",
        "classes_train, classes_test"
      ]
    },
    {
      "cell_type": "code",
      "execution_count": 10,
      "metadata": {
        "id": "N23RO_0K1dhV"
      },
      "outputs": [],
      "source": [
        "meta_train_kloader=KShotLoader(meta_train_ds,shots=5,ways=5)"
      ]
    },
    {
      "cell_type": "markdown",
      "metadata": {
        "id": "FHaNmJNJ1dhV"
      },
      "source": [
        "Sample a task - each task has a k-shot n-way training set and a similar test set"
      ]
    },
    {
      "cell_type": "code",
      "execution_count": 11,
      "metadata": {
        "id": "Y3-vYPEs1dhV"
      },
      "outputs": [],
      "source": [
        "d_train,d_test=meta_train_kloader.get_task()"
      ]
    },
    {
      "cell_type": "markdown",
      "metadata": {
        "id": "TxmfnsiY1dhV"
      },
      "source": [
        "Let's try directly learning using the task training set albeit its small size: create a dataset and loader and train it with the earlier network and Train function."
      ]
    },
    {
      "cell_type": "code",
      "execution_count": 12,
      "metadata": {
        "id": "xxGgmtqy1dhV"
      },
      "outputs": [],
      "source": [
        "taskds = utils.MyDS(d_train[0],d_train[1])"
      ]
    },
    {
      "cell_type": "code",
      "execution_count": 13,
      "metadata": {
        "id": "XbYtBB-L1dhV"
      },
      "outputs": [],
      "source": [
        "d_train_loader = torch.utils.data.DataLoader(dataset=taskds,batch_size=1,shuffle=True)"
      ]
    },
    {
      "cell_type": "code",
      "execution_count": 14,
      "metadata": {
        "id": "QzKDWt5B1dhV"
      },
      "outputs": [],
      "source": [
        "net = models.MLP(dims=[20,32,32,10])\n",
        "# net1 = models.MLP(dims=[400,32,32,len(mapping.keys())])"
      ]
    },
    {
      "cell_type": "code",
      "execution_count": 16,
      "metadata": {
        "id": "Vtlkqey71dhV"
      },
      "outputs": [
        {
          "name": "stdout",
          "output_type": "stream",
          "text": [
            "Epoch   19 Loss: 3.02854e-02 Accuracy: 1.00000\n"
          ]
        }
      ],
      "source": [
        "net1,losses,accs=models.Train(net,d_train_loader,lr=1e-3,epochs=20,verbose=True)"
      ]
    },
    {
      "cell_type": "code",
      "execution_count": 17,
      "metadata": {
        "id": "d0al3FLJ1dhV"
      },
      "outputs": [
        {
          "name": "stdout",
          "output_type": "stream",
          "text": [
            "25.0 25\n"
          ]
        },
        {
          "data": {
            "text/plain": [
              "1.0"
            ]
          },
          "execution_count": 17,
          "metadata": {},
          "output_type": "execute_result"
        }
      ],
      "source": [
        "models.accuracy(net1,d_train[0],d_train[1])"
      ]
    },
    {
      "cell_type": "markdown",
      "metadata": {
        "id": "G3vt8hyp1dhV"
      },
      "source": [
        "How does it do on the test set of the sampled task?"
      ]
    },
    {
      "cell_type": "code",
      "execution_count": 18,
      "metadata": {
        "id": "R5irGQny1dhV"
      },
      "outputs": [
        {
          "name": "stdout",
          "output_type": "stream",
          "text": [
            "20.0 25\n"
          ]
        },
        {
          "data": {
            "text/plain": [
              "0.8"
            ]
          },
          "execution_count": 18,
          "metadata": {},
          "output_type": "execute_result"
        }
      ],
      "source": [
        "models.accuracy(net,d_test[0],d_test[1])"
      ]
    },
    {
      "cell_type": "code",
      "execution_count": 19,
      "metadata": {
        "id": "5Zwm4g551dhV"
      },
      "outputs": [],
      "source": [
        "meta_test_kloader=KShotLoader(meta_test_ds,shots=5,ways=5)"
      ]
    },
    {
      "cell_type": "code",
      "execution_count": 20,
      "metadata": {
        "id": "kcza3qHx1dhV"
      },
      "outputs": [],
      "source": [
        "d_train,d_test=meta_test_kloader.get_task()"
      ]
    },
    {
      "cell_type": "code",
      "execution_count": 21,
      "metadata": {
        "id": "DYWNXNH71dhV"
      },
      "outputs": [
        {
          "name": "stdout",
          "output_type": "stream",
          "text": [
            "7.0 25\n"
          ]
        },
        {
          "data": {
            "text/plain": [
              "0.28"
            ]
          },
          "execution_count": 21,
          "metadata": {},
          "output_type": "execute_result"
        }
      ],
      "source": [
        "models.accuracy(net1,d_test[0],d_test[1])"
      ]
    },
    {
      "cell_type": "markdown",
      "metadata": {
        "id": "eLZaHZof1dhV"
      },
      "source": [
        "# MAML - Model-Agnostic Meta-Learning"
      ]
    },
    {
      "cell_type": "code",
      "execution_count": 5,
      "metadata": {
        "id": "dfrGrb4N1dhW"
      },
      "outputs": [],
      "source": [
        "import learn2learn as l2l\n",
        "import torch.optim as optim"
      ]
    },
    {
      "cell_type": "code",
      "execution_count": 6,
      "metadata": {
        "id": "9dvjsq621dhW"
      },
      "outputs": [],
      "source": [
        "shots,ways=2,5\n",
        "net = models.MLP(dims=[20,32,32,ways])\n",
        "# net = models.MLP(dims=[400,64,32,ways])\n",
        "maml = l2l.algorithms.MAML(net, lr=1e-1)\n",
        "optimizer = optim.Adam(net.parameters(),lr=1e-3)\n",
        "lossfn = torch.nn.NLLLoss()\n",
        "meta_train_kloader=KShotLoader(meta_train_ds,shots=shots,ways=ways)"
      ]
    },
    {
      "cell_type": "markdown",
      "metadata": {
        "id": "1vLP9R711dhW"
      },
      "source": [
        "The MAML class above wraps our nn.Module class for parameter cloning and other purposes as below. One iteration of the MAML algorithm proceeds by first sampling a training task: Note that each of d_train and d_test is a tuple comprising of a training set, and labels."
      ]
    },
    {
      "cell_type": "code",
      "execution_count": 28,
      "metadata": {
        "id": "-jUYDjQP1dhW"
      },
      "outputs": [],
      "source": [
        "d_train,d_test=meta_train_kloader.get_task()"
      ]
    },
    {
      "cell_type": "code",
      "execution_count": 29,
      "metadata": {
        "id": "9nkCEqji1dhW"
      },
      "outputs": [],
      "source": [
        "learner = maml.clone()"
      ]
    },
    {
      "cell_type": "markdown",
      "metadata": {
        "id": "0aB0AAZB1dhW"
      },
      "source": [
        "The learner class above is a 'clone' of our network with copies of parameters so that we can change these without changing the parameters of the network. We apply the learner on training data of d_train and compute TRAINING loss w.r.t the training data of the task, i.e., d_train."
      ]
    },
    {
      "cell_type": "code",
      "execution_count": 30,
      "metadata": {
        "id": "kpuWqRR31dhW"
      },
      "outputs": [],
      "source": [
        "train_preds = learner(d_train[0])\n",
        "train_loss = lossfn(train_preds,d_train[1])"
      ]
    },
    {
      "cell_type": "code",
      "execution_count": 31,
      "metadata": {
        "id": "fWr-HQqc6Oa7"
      },
      "outputs": [
        {
          "data": {
            "text/plain": [
              "tensor(1.5851, grad_fn=<NllLossBackward0>)"
            ]
          },
          "execution_count": 31,
          "metadata": {},
          "output_type": "execute_result"
        }
      ],
      "source": [
        "train_loss"
      ]
    },
    {
      "cell_type": "code",
      "execution_count": 32,
      "metadata": {
        "id": "pwgwmXlq1dhW"
      },
      "outputs": [
        {
          "data": {
            "text/plain": [
              "Parameter containing:\n",
              "tensor([[ 1.5658e-01,  1.2070e-01, -1.0942e-01,  6.6487e-02, -1.7291e-02,\n",
              "          1.7042e-01, -1.2543e-02, -1.8656e-01, -1.0906e-01,  1.8757e-01,\n",
              "          1.3886e-01, -2.5795e-02, -1.7816e-01,  2.0719e-01,  7.8552e-02,\n",
              "          7.8238e-02, -1.5214e-01, -2.2349e-01,  1.9868e-01, -4.0118e-02],\n",
              "        [-6.4747e-02,  9.0736e-02,  1.0805e-01,  7.1763e-02,  9.7771e-02,\n",
              "         -1.3501e-01, -5.4242e-02, -1.1329e-01,  2.0106e-01,  1.7441e-01,\n",
              "         -7.8762e-02,  1.9747e-01,  1.1903e-01, -1.2776e-01, -8.7668e-02,\n",
              "         -1.2906e-01,  1.6224e-01,  2.4776e-02, -2.2069e-02, -1.4358e-01],\n",
              "        [-4.1849e-02,  1.5447e-01,  1.7760e-01,  1.2911e-01,  1.3801e-01,\n",
              "         -8.1873e-02, -7.9927e-02,  9.1498e-03, -1.2497e-01,  4.2245e-02,\n",
              "         -2.1970e-01, -1.7867e-01, -2.1501e-01, -1.9356e-01,  1.8407e-01,\n",
              "          2.0775e-01, -2.2246e-01,  1.0841e-01, -1.7802e-01, -1.9398e-01],\n",
              "        [-1.4950e-01,  1.5255e-01, -6.3337e-02, -1.6172e-01, -4.0041e-03,\n",
              "          8.5283e-02,  4.0467e-02, -7.8128e-02,  1.9034e-01, -9.1704e-02,\n",
              "          4.2540e-02,  2.5598e-02, -1.6488e-01, -1.3390e-02, -8.3074e-02,\n",
              "         -1.2981e-01, -1.9679e-01, -1.6182e-01,  8.0924e-02, -1.2307e-01],\n",
              "        [ 8.3175e-03,  1.6052e-01, -1.6629e-01, -1.9295e-01,  1.6702e-01,\n",
              "         -1.8086e-01,  2.4831e-03, -3.4516e-02, -1.0330e-01,  7.8649e-02,\n",
              "          1.0057e-01, -2.1348e-01, -4.0352e-02,  8.4112e-02,  1.2736e-01,\n",
              "         -1.2274e-01,  2.0910e-01, -3.4977e-02, -1.1491e-01, -8.5749e-02],\n",
              "        [-1.5318e-01, -2.0781e-01, -1.0345e-01, -9.8271e-02,  1.1226e-01,\n",
              "         -2.0222e-01,  7.5949e-02, -9.4590e-02,  3.0940e-03, -5.9377e-02,\n",
              "          6.0695e-02,  2.1818e-01, -1.3976e-01, -1.7861e-02, -1.4055e-01,\n",
              "         -2.0358e-01, -5.2089e-03,  3.4510e-02, -1.8904e-01, -1.9399e-01],\n",
              "        [ 1.6168e-01,  2.5803e-02, -1.6631e-02, -9.2810e-02,  2.0618e-01,\n",
              "         -2.0424e-01, -1.0263e-02,  9.8762e-02, -1.1429e-01,  8.5089e-02,\n",
              "          1.3856e-01, -2.0997e-01,  7.9560e-03,  3.4197e-02, -8.0763e-03,\n",
              "         -2.1850e-01,  1.6357e-01, -7.5741e-02, -1.2514e-01,  1.2773e-01],\n",
              "        [ 1.1270e-02, -3.3624e-02, -2.5413e-02,  1.2205e-01,  1.0729e-01,\n",
              "         -5.0948e-02,  1.0818e-01,  2.0489e-01,  1.2293e-01, -7.7796e-02,\n",
              "         -1.5748e-01, -2.4449e-02, -1.3277e-01,  3.6943e-02,  1.6923e-01,\n",
              "         -1.9863e-01,  3.9264e-02,  3.5007e-02,  1.5725e-02, -1.3133e-01],\n",
              "        [-2.1557e-01, -2.1981e-01, -1.5956e-01, -7.4898e-02, -1.0892e-01,\n",
              "          6.3235e-03,  9.0337e-02,  1.4907e-01,  2.1917e-01, -2.0367e-01,\n",
              "         -1.4806e-01,  9.4326e-02, -1.0509e-01, -1.6350e-01, -1.0154e-01,\n",
              "         -1.6553e-01,  5.6661e-02, -4.5704e-02, -7.3081e-02, -1.6538e-01],\n",
              "        [ 2.0343e-01, -1.4940e-01, -1.1066e-01,  9.1435e-02, -9.9803e-02,\n",
              "          1.4997e-01, -6.8106e-04, -9.9147e-02, -2.0671e-01, -3.8019e-02,\n",
              "         -5.4150e-02,  1.6619e-01, -2.1733e-01, -2.9759e-02,  1.0998e-01,\n",
              "          1.2308e-01, -2.8149e-02, -2.2319e-02, -1.5046e-01,  1.1804e-01],\n",
              "        [-1.4165e-01,  1.2767e-01, -1.1081e-01, -1.3584e-01,  6.7076e-02,\n",
              "         -6.7631e-02, -1.2675e-01, -4.1973e-02, -1.6251e-01,  1.4852e-01,\n",
              "          1.2247e-01,  1.7667e-01, -1.2894e-01,  1.1377e-01, -2.1157e-01,\n",
              "          6.6601e-02,  1.6133e-02,  1.9809e-01, -1.8101e-01,  7.2438e-02],\n",
              "        [-1.0696e-01, -4.4158e-02,  5.1608e-02,  1.3181e-01, -5.8477e-02,\n",
              "          1.7769e-01,  2.0167e-01, -1.8123e-01,  2.7744e-02,  5.5545e-02,\n",
              "          2.9128e-02, -2.4174e-04, -5.6060e-02, -1.0185e-01, -2.0324e-01,\n",
              "          1.0347e-01, -1.9940e-01,  1.1260e-01, -2.2136e-01,  1.5497e-01],\n",
              "        [ 2.0337e-01,  2.4865e-02,  1.7389e-01,  5.0594e-02, -8.4462e-02,\n",
              "          1.4793e-01, -8.3226e-02, -1.4847e-01,  8.9565e-03, -1.9362e-01,\n",
              "          4.3967e-02, -1.0888e-01,  5.1281e-02,  1.6906e-01, -7.6126e-02,\n",
              "          1.2226e-01,  7.6277e-02, -8.9996e-02,  9.4033e-02, -1.1381e-01],\n",
              "        [ 1.0387e-01, -1.9608e-01,  2.6603e-02, -2.1764e-01,  1.9701e-02,\n",
              "         -1.0449e-01, -7.5482e-02, -1.0775e-01, -2.0657e-01, -1.7826e-01,\n",
              "         -2.1788e-02,  1.9830e-01, -8.7429e-02,  4.4560e-02,  1.5127e-01,\n",
              "          2.1477e-01, -1.1414e-01, -1.9177e-01,  8.5735e-03,  3.8927e-02],\n",
              "        [ 6.1343e-03,  1.4199e-01,  2.9780e-02, -7.5022e-02, -2.6289e-03,\n",
              "          1.3567e-01, -7.3464e-02, -3.1435e-02,  1.7905e-01,  1.8716e-01,\n",
              "         -1.0550e-01,  1.7387e-03,  5.8584e-03,  1.5898e-01, -1.9171e-01,\n",
              "          2.7323e-03, -4.1495e-02, -2.1241e-01,  1.2206e-01,  8.5119e-02],\n",
              "        [ 1.0336e-01,  8.7841e-03,  1.9132e-01,  7.2023e-02,  9.2380e-02,\n",
              "         -3.4111e-02,  1.7689e-01,  1.4890e-01,  6.5189e-02,  3.7710e-02,\n",
              "         -1.1156e-01,  1.2635e-01,  1.7995e-01,  2.0792e-01, -9.4887e-02,\n",
              "         -1.5460e-01,  6.5909e-03, -8.7668e-02, -1.8700e-01,  7.5541e-02],\n",
              "        [ 1.0263e-01,  7.8020e-02,  1.8945e-01,  8.3898e-02, -1.3416e-01,\n",
              "          8.3541e-02, -2.1620e-01, -8.3134e-03, -5.3005e-02,  1.5303e-01,\n",
              "         -1.8493e-01, -4.1729e-02,  1.2924e-01, -4.5959e-02,  1.9249e-01,\n",
              "         -2.9313e-02, -1.7842e-01,  3.9178e-02,  7.1780e-02, -1.0782e-01],\n",
              "        [ 1.1914e-01,  1.2582e-02, -1.8268e-01, -4.2971e-02, -2.0157e-01,\n",
              "          1.9494e-01, -1.1579e-01, -7.0120e-02,  1.3331e-01, -2.0982e-02,\n",
              "          1.2029e-03,  1.6310e-01,  2.4068e-02, -6.4465e-02, -9.0030e-02,\n",
              "          1.8339e-01, -1.3299e-01, -1.8592e-01, -9.4786e-02, -1.1179e-01],\n",
              "        [ 2.0663e-01,  8.7962e-02,  4.4511e-02,  2.9604e-02,  2.1073e-02,\n",
              "         -1.3466e-01,  9.6155e-02,  2.3791e-03, -2.0378e-01, -1.7885e-01,\n",
              "          1.9580e-01, -8.2996e-02,  2.0420e-01, -1.2574e-02, -1.2093e-01,\n",
              "         -1.0510e-02,  1.0763e-01,  6.7046e-02,  4.0075e-02,  1.2679e-01],\n",
              "        [ 3.8802e-02,  1.5850e-02, -1.3470e-01,  1.7574e-01,  9.0932e-02,\n",
              "         -9.4659e-02, -1.1981e-01,  3.7275e-03,  1.1338e-01, -8.9647e-02,\n",
              "         -6.6621e-03,  1.0133e-01,  8.6902e-02, -8.4826e-02,  2.7915e-02,\n",
              "         -4.1040e-04, -1.4287e-01, -6.6199e-02,  1.0179e-01,  5.7386e-02],\n",
              "        [-1.3561e-01,  9.6288e-02, -3.7418e-02,  7.2676e-02, -1.8599e-01,\n",
              "         -9.7082e-02,  2.2306e-01, -8.5736e-02, -7.2809e-02, -5.9779e-02,\n",
              "          1.5345e-01, -2.7740e-02,  1.2711e-01,  2.1226e-01, -1.5782e-01,\n",
              "          7.0888e-02,  1.9817e-01, -1.2675e-01,  8.3073e-02,  1.3531e-01],\n",
              "        [-1.6400e-01,  1.8290e-02, -2.0535e-01,  3.4836e-02, -6.0437e-02,\n",
              "         -2.0652e-01, -4.6342e-02, -7.9908e-02, -1.3746e-01, -1.7694e-01,\n",
              "          1.4219e-01, -5.7644e-02, -1.7090e-01, -7.7670e-02,  1.8110e-01,\n",
              "         -6.0958e-02, -1.7518e-01, -9.0906e-02, -3.6843e-02, -1.2215e-01],\n",
              "        [ 2.4266e-02, -8.5891e-02,  3.2888e-02, -1.7618e-01,  1.5838e-01,\n",
              "          2.1413e-01, -8.3265e-02, -2.1148e-01, -5.3692e-02,  8.5746e-03,\n",
              "          1.6572e-01, -1.5245e-02, -6.6418e-02, -2.1902e-01, -2.0137e-01,\n",
              "          1.7152e-01,  1.5635e-01, -1.8152e-01, -8.6310e-03, -8.8991e-02],\n",
              "        [ 1.6658e-02, -1.8623e-02, -2.0940e-01,  7.1383e-02,  2.0341e-01,\n",
              "          1.7890e-01, -8.6205e-02,  6.9357e-03, -2.1547e-01,  5.3597e-02,\n",
              "         -1.6710e-01, -1.8940e-01,  1.8528e-01, -2.7459e-03,  9.7129e-02,\n",
              "         -9.1174e-02, -8.0112e-02, -7.3009e-02, -1.5810e-01, -9.9535e-02],\n",
              "        [-5.8954e-02, -1.2219e-01, -4.3048e-02, -2.1110e-01,  6.5624e-02,\n",
              "         -1.1523e-01, -1.2839e-01, -5.3264e-02,  1.3366e-01,  5.4794e-02,\n",
              "          1.5581e-01, -1.5108e-03,  6.6133e-02,  1.5458e-04, -1.7072e-01,\n",
              "          1.4537e-01, -2.0285e-01, -1.5946e-01, -5.6450e-02, -9.6563e-02],\n",
              "        [-1.8472e-01, -1.6351e-01, -1.8282e-01, -1.2118e-01, -6.6222e-02,\n",
              "          8.7009e-02,  9.4369e-02, -1.8248e-01,  1.3287e-01, -1.9928e-01,\n",
              "         -1.5987e-02, -8.9795e-02, -6.5267e-02, -1.6303e-01,  2.2094e-02,\n",
              "         -1.5083e-01,  1.4976e-01, -3.2178e-02, -3.7796e-02,  1.0046e-01],\n",
              "        [-8.9085e-02,  1.2852e-01, -1.5815e-01,  8.1812e-02,  8.9303e-03,\n",
              "         -1.4426e-01,  1.9619e-01,  3.1017e-02, -1.4087e-01, -1.7845e-03,\n",
              "         -8.2105e-02, -2.2143e-01, -1.2661e-01, -7.0378e-02,  2.7997e-02,\n",
              "          2.1652e-01, -1.6238e-01,  1.3554e-01, -9.7100e-02,  1.8992e-01],\n",
              "        [-1.6369e-01, -2.4096e-02, -1.9139e-01,  1.3197e-01,  3.1520e-02,\n",
              "         -1.5191e-01, -7.7983e-02, -7.8000e-02,  1.9982e-01, -1.6372e-01,\n",
              "          6.4780e-02, -1.5550e-01, -1.9430e-01,  4.4195e-02,  2.0940e-01,\n",
              "          1.2360e-01, -1.6444e-01, -2.2060e-01,  8.4141e-03, -1.2682e-01],\n",
              "        [ 6.4281e-02, -7.3202e-02, -1.6216e-01,  2.1487e-01,  8.2500e-02,\n",
              "         -1.8703e-01, -1.0071e-01,  1.4378e-01, -5.4960e-02,  1.5874e-02,\n",
              "          1.4532e-01,  1.6845e-02, -8.1917e-02, -1.2949e-01, -6.6846e-02,\n",
              "         -8.2089e-02, -1.8491e-01, -1.6295e-01,  1.3961e-02,  4.5384e-02],\n",
              "        [-1.8306e-02,  5.6780e-02,  1.5608e-02,  1.2817e-01,  1.3433e-01,\n",
              "          6.0616e-02, -1.2072e-01, -8.4060e-02,  2.1996e-01, -1.2482e-01,\n",
              "         -7.2264e-02,  1.3555e-01, -1.6493e-01, -1.5664e-02,  6.0848e-02,\n",
              "         -2.2284e-01,  1.4784e-01,  1.8227e-01, -1.0931e-01,  1.1108e-01],\n",
              "        [-3.7603e-02,  5.2970e-02,  1.1611e-01,  5.3643e-02,  1.0137e-01,\n",
              "          1.4153e-01,  2.6243e-02, -1.3923e-01, -1.4655e-01,  1.8891e-01,\n",
              "          1.8948e-01, -1.3445e-01,  1.3973e-01, -1.7201e-01, -1.3983e-01,\n",
              "         -2.1337e-01,  6.0503e-02, -1.3999e-01, -6.2822e-02,  1.4723e-01],\n",
              "        [ 1.0391e-01,  2.1885e-01, -7.9920e-03, -1.1799e-01,  1.9582e-01,\n",
              "          1.7564e-01, -2.0754e-02, -1.6522e-02,  1.0718e-01,  7.8535e-02,\n",
              "         -6.2163e-02,  6.2927e-02, -9.8341e-02,  2.1462e-01, -2.0553e-01,\n",
              "         -1.4711e-01, -5.8270e-02, -1.7374e-01, -4.9662e-02,  4.6914e-02]],\n",
              "       requires_grad=True)"
            ]
          },
          "execution_count": 32,
          "metadata": {},
          "output_type": "execute_result"
        }
      ],
      "source": [
        "net.layers[0].weight"
      ]
    },
    {
      "cell_type": "code",
      "execution_count": 33,
      "metadata": {
        "id": "I__tZJcB1dhW"
      },
      "outputs": [
        {
          "data": {
            "text/plain": [
              "tensor([[ 1.5658e-01,  1.2070e-01, -1.0942e-01,  6.6487e-02, -1.7291e-02,\n",
              "          1.7042e-01, -1.2543e-02, -1.8656e-01, -1.0906e-01,  1.8757e-01,\n",
              "          1.3886e-01, -2.5795e-02, -1.7816e-01,  2.0719e-01,  7.8552e-02,\n",
              "          7.8238e-02, -1.5214e-01, -2.2349e-01,  1.9868e-01, -4.0118e-02],\n",
              "        [-6.4747e-02,  9.0736e-02,  1.0805e-01,  7.1763e-02,  9.7771e-02,\n",
              "         -1.3501e-01, -5.4242e-02, -1.1329e-01,  2.0106e-01,  1.7441e-01,\n",
              "         -7.8762e-02,  1.9747e-01,  1.1903e-01, -1.2776e-01, -8.7668e-02,\n",
              "         -1.2906e-01,  1.6224e-01,  2.4776e-02, -2.2069e-02, -1.4358e-01],\n",
              "        [-4.1849e-02,  1.5447e-01,  1.7760e-01,  1.2911e-01,  1.3801e-01,\n",
              "         -8.1873e-02, -7.9927e-02,  9.1498e-03, -1.2497e-01,  4.2245e-02,\n",
              "         -2.1970e-01, -1.7867e-01, -2.1501e-01, -1.9356e-01,  1.8407e-01,\n",
              "          2.0775e-01, -2.2246e-01,  1.0841e-01, -1.7802e-01, -1.9398e-01],\n",
              "        [-1.4950e-01,  1.5255e-01, -6.3337e-02, -1.6172e-01, -4.0041e-03,\n",
              "          8.5283e-02,  4.0467e-02, -7.8128e-02,  1.9034e-01, -9.1704e-02,\n",
              "          4.2540e-02,  2.5598e-02, -1.6488e-01, -1.3390e-02, -8.3074e-02,\n",
              "         -1.2981e-01, -1.9679e-01, -1.6182e-01,  8.0924e-02, -1.2307e-01],\n",
              "        [ 8.3175e-03,  1.6052e-01, -1.6629e-01, -1.9295e-01,  1.6702e-01,\n",
              "         -1.8086e-01,  2.4831e-03, -3.4516e-02, -1.0330e-01,  7.8649e-02,\n",
              "          1.0057e-01, -2.1348e-01, -4.0352e-02,  8.4112e-02,  1.2736e-01,\n",
              "         -1.2274e-01,  2.0910e-01, -3.4977e-02, -1.1491e-01, -8.5749e-02],\n",
              "        [-1.5318e-01, -2.0781e-01, -1.0345e-01, -9.8271e-02,  1.1226e-01,\n",
              "         -2.0222e-01,  7.5949e-02, -9.4590e-02,  3.0940e-03, -5.9377e-02,\n",
              "          6.0695e-02,  2.1818e-01, -1.3976e-01, -1.7861e-02, -1.4055e-01,\n",
              "         -2.0358e-01, -5.2089e-03,  3.4510e-02, -1.8904e-01, -1.9399e-01],\n",
              "        [ 1.6168e-01,  2.5803e-02, -1.6631e-02, -9.2810e-02,  2.0618e-01,\n",
              "         -2.0424e-01, -1.0263e-02,  9.8762e-02, -1.1429e-01,  8.5089e-02,\n",
              "          1.3856e-01, -2.0997e-01,  7.9560e-03,  3.4197e-02, -8.0763e-03,\n",
              "         -2.1850e-01,  1.6357e-01, -7.5741e-02, -1.2514e-01,  1.2773e-01],\n",
              "        [ 1.1270e-02, -3.3624e-02, -2.5413e-02,  1.2205e-01,  1.0729e-01,\n",
              "         -5.0948e-02,  1.0818e-01,  2.0489e-01,  1.2293e-01, -7.7796e-02,\n",
              "         -1.5748e-01, -2.4449e-02, -1.3277e-01,  3.6943e-02,  1.6923e-01,\n",
              "         -1.9863e-01,  3.9264e-02,  3.5007e-02,  1.5725e-02, -1.3133e-01],\n",
              "        [-2.1557e-01, -2.1981e-01, -1.5956e-01, -7.4898e-02, -1.0892e-01,\n",
              "          6.3235e-03,  9.0337e-02,  1.4907e-01,  2.1917e-01, -2.0367e-01,\n",
              "         -1.4806e-01,  9.4326e-02, -1.0509e-01, -1.6350e-01, -1.0154e-01,\n",
              "         -1.6553e-01,  5.6661e-02, -4.5704e-02, -7.3081e-02, -1.6538e-01],\n",
              "        [ 2.0343e-01, -1.4940e-01, -1.1066e-01,  9.1435e-02, -9.9803e-02,\n",
              "          1.4997e-01, -6.8106e-04, -9.9147e-02, -2.0671e-01, -3.8019e-02,\n",
              "         -5.4150e-02,  1.6619e-01, -2.1733e-01, -2.9759e-02,  1.0998e-01,\n",
              "          1.2308e-01, -2.8149e-02, -2.2319e-02, -1.5046e-01,  1.1804e-01],\n",
              "        [-1.4165e-01,  1.2767e-01, -1.1081e-01, -1.3584e-01,  6.7076e-02,\n",
              "         -6.7631e-02, -1.2675e-01, -4.1973e-02, -1.6251e-01,  1.4852e-01,\n",
              "          1.2247e-01,  1.7667e-01, -1.2894e-01,  1.1377e-01, -2.1157e-01,\n",
              "          6.6601e-02,  1.6133e-02,  1.9809e-01, -1.8101e-01,  7.2438e-02],\n",
              "        [-1.0696e-01, -4.4158e-02,  5.1608e-02,  1.3181e-01, -5.8477e-02,\n",
              "          1.7769e-01,  2.0167e-01, -1.8123e-01,  2.7744e-02,  5.5545e-02,\n",
              "          2.9128e-02, -2.4174e-04, -5.6060e-02, -1.0185e-01, -2.0324e-01,\n",
              "          1.0347e-01, -1.9940e-01,  1.1260e-01, -2.2136e-01,  1.5497e-01],\n",
              "        [ 2.0337e-01,  2.4865e-02,  1.7389e-01,  5.0594e-02, -8.4462e-02,\n",
              "          1.4793e-01, -8.3226e-02, -1.4847e-01,  8.9565e-03, -1.9362e-01,\n",
              "          4.3967e-02, -1.0888e-01,  5.1281e-02,  1.6906e-01, -7.6126e-02,\n",
              "          1.2226e-01,  7.6277e-02, -8.9996e-02,  9.4033e-02, -1.1381e-01],\n",
              "        [ 1.0387e-01, -1.9608e-01,  2.6603e-02, -2.1764e-01,  1.9701e-02,\n",
              "         -1.0449e-01, -7.5482e-02, -1.0775e-01, -2.0657e-01, -1.7826e-01,\n",
              "         -2.1788e-02,  1.9830e-01, -8.7429e-02,  4.4560e-02,  1.5127e-01,\n",
              "          2.1477e-01, -1.1414e-01, -1.9177e-01,  8.5735e-03,  3.8927e-02],\n",
              "        [ 6.1343e-03,  1.4199e-01,  2.9780e-02, -7.5022e-02, -2.6289e-03,\n",
              "          1.3567e-01, -7.3464e-02, -3.1435e-02,  1.7905e-01,  1.8716e-01,\n",
              "         -1.0550e-01,  1.7387e-03,  5.8584e-03,  1.5898e-01, -1.9171e-01,\n",
              "          2.7323e-03, -4.1495e-02, -2.1241e-01,  1.2206e-01,  8.5119e-02],\n",
              "        [ 1.0336e-01,  8.7841e-03,  1.9132e-01,  7.2023e-02,  9.2380e-02,\n",
              "         -3.4111e-02,  1.7689e-01,  1.4890e-01,  6.5189e-02,  3.7710e-02,\n",
              "         -1.1156e-01,  1.2635e-01,  1.7995e-01,  2.0792e-01, -9.4887e-02,\n",
              "         -1.5460e-01,  6.5909e-03, -8.7668e-02, -1.8700e-01,  7.5541e-02],\n",
              "        [ 1.0263e-01,  7.8020e-02,  1.8945e-01,  8.3898e-02, -1.3416e-01,\n",
              "          8.3541e-02, -2.1620e-01, -8.3134e-03, -5.3005e-02,  1.5303e-01,\n",
              "         -1.8493e-01, -4.1729e-02,  1.2924e-01, -4.5959e-02,  1.9249e-01,\n",
              "         -2.9313e-02, -1.7842e-01,  3.9178e-02,  7.1780e-02, -1.0782e-01],\n",
              "        [ 1.1914e-01,  1.2582e-02, -1.8268e-01, -4.2971e-02, -2.0157e-01,\n",
              "          1.9494e-01, -1.1579e-01, -7.0120e-02,  1.3331e-01, -2.0982e-02,\n",
              "          1.2029e-03,  1.6310e-01,  2.4068e-02, -6.4465e-02, -9.0030e-02,\n",
              "          1.8339e-01, -1.3299e-01, -1.8592e-01, -9.4786e-02, -1.1179e-01],\n",
              "        [ 2.0663e-01,  8.7962e-02,  4.4511e-02,  2.9604e-02,  2.1073e-02,\n",
              "         -1.3466e-01,  9.6155e-02,  2.3791e-03, -2.0378e-01, -1.7885e-01,\n",
              "          1.9580e-01, -8.2996e-02,  2.0420e-01, -1.2574e-02, -1.2093e-01,\n",
              "         -1.0510e-02,  1.0763e-01,  6.7046e-02,  4.0075e-02,  1.2679e-01],\n",
              "        [ 3.8802e-02,  1.5850e-02, -1.3470e-01,  1.7574e-01,  9.0932e-02,\n",
              "         -9.4659e-02, -1.1981e-01,  3.7275e-03,  1.1338e-01, -8.9647e-02,\n",
              "         -6.6621e-03,  1.0133e-01,  8.6902e-02, -8.4826e-02,  2.7915e-02,\n",
              "         -4.1040e-04, -1.4287e-01, -6.6199e-02,  1.0179e-01,  5.7386e-02],\n",
              "        [-1.3561e-01,  9.6288e-02, -3.7418e-02,  7.2676e-02, -1.8599e-01,\n",
              "         -9.7082e-02,  2.2306e-01, -8.5736e-02, -7.2809e-02, -5.9779e-02,\n",
              "          1.5345e-01, -2.7740e-02,  1.2711e-01,  2.1226e-01, -1.5782e-01,\n",
              "          7.0888e-02,  1.9817e-01, -1.2675e-01,  8.3073e-02,  1.3531e-01],\n",
              "        [-1.6400e-01,  1.8290e-02, -2.0535e-01,  3.4836e-02, -6.0437e-02,\n",
              "         -2.0652e-01, -4.6342e-02, -7.9908e-02, -1.3746e-01, -1.7694e-01,\n",
              "          1.4219e-01, -5.7644e-02, -1.7090e-01, -7.7670e-02,  1.8110e-01,\n",
              "         -6.0958e-02, -1.7518e-01, -9.0906e-02, -3.6843e-02, -1.2215e-01],\n",
              "        [ 2.4266e-02, -8.5891e-02,  3.2888e-02, -1.7618e-01,  1.5838e-01,\n",
              "          2.1413e-01, -8.3265e-02, -2.1148e-01, -5.3692e-02,  8.5746e-03,\n",
              "          1.6572e-01, -1.5245e-02, -6.6418e-02, -2.1902e-01, -2.0137e-01,\n",
              "          1.7152e-01,  1.5635e-01, -1.8152e-01, -8.6310e-03, -8.8991e-02],\n",
              "        [ 1.6658e-02, -1.8623e-02, -2.0940e-01,  7.1383e-02,  2.0341e-01,\n",
              "          1.7890e-01, -8.6205e-02,  6.9357e-03, -2.1547e-01,  5.3597e-02,\n",
              "         -1.6710e-01, -1.8940e-01,  1.8528e-01, -2.7459e-03,  9.7129e-02,\n",
              "         -9.1174e-02, -8.0112e-02, -7.3009e-02, -1.5810e-01, -9.9535e-02],\n",
              "        [-5.8954e-02, -1.2219e-01, -4.3048e-02, -2.1110e-01,  6.5624e-02,\n",
              "         -1.1523e-01, -1.2839e-01, -5.3264e-02,  1.3366e-01,  5.4794e-02,\n",
              "          1.5581e-01, -1.5108e-03,  6.6133e-02,  1.5458e-04, -1.7072e-01,\n",
              "          1.4537e-01, -2.0285e-01, -1.5946e-01, -5.6450e-02, -9.6563e-02],\n",
              "        [-1.8472e-01, -1.6351e-01, -1.8282e-01, -1.2118e-01, -6.6222e-02,\n",
              "          8.7009e-02,  9.4369e-02, -1.8248e-01,  1.3287e-01, -1.9928e-01,\n",
              "         -1.5987e-02, -8.9795e-02, -6.5267e-02, -1.6303e-01,  2.2094e-02,\n",
              "         -1.5083e-01,  1.4976e-01, -3.2178e-02, -3.7796e-02,  1.0046e-01],\n",
              "        [-8.9085e-02,  1.2852e-01, -1.5815e-01,  8.1812e-02,  8.9303e-03,\n",
              "         -1.4426e-01,  1.9619e-01,  3.1017e-02, -1.4087e-01, -1.7845e-03,\n",
              "         -8.2105e-02, -2.2143e-01, -1.2661e-01, -7.0378e-02,  2.7997e-02,\n",
              "          2.1652e-01, -1.6238e-01,  1.3554e-01, -9.7100e-02,  1.8992e-01],\n",
              "        [-1.6369e-01, -2.4096e-02, -1.9139e-01,  1.3197e-01,  3.1520e-02,\n",
              "         -1.5191e-01, -7.7983e-02, -7.8000e-02,  1.9982e-01, -1.6372e-01,\n",
              "          6.4780e-02, -1.5550e-01, -1.9430e-01,  4.4195e-02,  2.0940e-01,\n",
              "          1.2360e-01, -1.6444e-01, -2.2060e-01,  8.4141e-03, -1.2682e-01],\n",
              "        [ 6.4281e-02, -7.3202e-02, -1.6216e-01,  2.1487e-01,  8.2500e-02,\n",
              "         -1.8703e-01, -1.0071e-01,  1.4378e-01, -5.4960e-02,  1.5874e-02,\n",
              "          1.4532e-01,  1.6845e-02, -8.1917e-02, -1.2949e-01, -6.6846e-02,\n",
              "         -8.2089e-02, -1.8491e-01, -1.6295e-01,  1.3961e-02,  4.5384e-02],\n",
              "        [-1.8306e-02,  5.6780e-02,  1.5608e-02,  1.2817e-01,  1.3433e-01,\n",
              "          6.0616e-02, -1.2072e-01, -8.4060e-02,  2.1996e-01, -1.2482e-01,\n",
              "         -7.2264e-02,  1.3555e-01, -1.6493e-01, -1.5664e-02,  6.0848e-02,\n",
              "         -2.2284e-01,  1.4784e-01,  1.8227e-01, -1.0931e-01,  1.1108e-01],\n",
              "        [-3.7603e-02,  5.2970e-02,  1.1611e-01,  5.3643e-02,  1.0137e-01,\n",
              "          1.4153e-01,  2.6243e-02, -1.3923e-01, -1.4655e-01,  1.8891e-01,\n",
              "          1.8948e-01, -1.3445e-01,  1.3973e-01, -1.7201e-01, -1.3983e-01,\n",
              "         -2.1337e-01,  6.0503e-02, -1.3999e-01, -6.2822e-02,  1.4723e-01],\n",
              "        [ 1.0391e-01,  2.1885e-01, -7.9920e-03, -1.1799e-01,  1.9582e-01,\n",
              "          1.7564e-01, -2.0754e-02, -1.6522e-02,  1.0718e-01,  7.8535e-02,\n",
              "         -6.2163e-02,  6.2927e-02, -9.8341e-02,  2.1462e-01, -2.0553e-01,\n",
              "         -1.4711e-01, -5.8270e-02, -1.7374e-01, -4.9662e-02,  4.6914e-02]],\n",
              "       grad_fn=<CloneBackward0>)"
            ]
          },
          "execution_count": 33,
          "metadata": {},
          "output_type": "execute_result"
        }
      ],
      "source": [
        "learner.layers[0].weight"
      ]
    },
    {
      "cell_type": "markdown",
      "metadata": {
        "id": "eAm8pUTP1dhW"
      },
      "source": [
        "Note that at this point both the learner and original net have the same parameters. Lets see what the gradients w.r.t the TRAINING loss are: (We use pytorch's autograd functions directly.)"
      ]
    },
    {
      "cell_type": "code",
      "execution_count": 34,
      "metadata": {
        "id": "hiHi7TDV1dhW"
      },
      "outputs": [],
      "source": [
        "from torch.autograd import grad"
      ]
    },
    {
      "cell_type": "code",
      "execution_count": 35,
      "metadata": {
        "id": "E6MMK_z31dhW"
      },
      "outputs": [
        {
          "data": {
            "text/plain": [
              "tensor([[ 2.2552e-02,  4.0031e-02,  5.2864e-02, -2.4625e-02,  8.0272e-02,\n",
              "          1.1035e-02,  5.3615e-02, -3.5503e-02, -1.7575e-02,  2.1172e-02,\n",
              "          5.8783e-02,  6.4913e-02, -1.2474e-02,  6.2054e-03,  4.5687e-02,\n",
              "         -2.7830e-02,  3.6707e-02,  2.2189e-02, -6.0695e-02,  2.3203e-02],\n",
              "        [ 1.4119e-02,  1.0155e-02,  4.3366e-02, -1.4546e-02,  4.5918e-02,\n",
              "         -6.1701e-03,  2.9857e-02, -3.9422e-02, -2.4070e-02, -2.7158e-03,\n",
              "          4.7529e-02,  4.3188e-02, -2.1596e-04,  1.9264e-02,  5.4400e-02,\n",
              "         -1.3159e-02,  1.0607e-02, -7.9034e-03, -3.9757e-02,  1.6301e-02],\n",
              "        [ 2.5135e-02, -1.7881e-03, -2.8656e-03, -1.1654e-02,  9.9923e-03,\n",
              "          1.6505e-02,  9.0372e-03, -1.4037e-02,  4.2172e-03,  1.8332e-02,\n",
              "          6.7397e-03,  1.2722e-04, -6.6363e-03,  6.3412e-03,  1.4906e-02,\n",
              "         -8.7207e-04, -9.9887e-03, -4.1702e-03,  5.0963e-03,  4.6239e-03],\n",
              "        [ 2.6350e-02,  3.9736e-02,  9.6634e-03,  1.3957e-02, -1.5931e-02,\n",
              "          3.0474e-02, -2.4610e-04,  5.0305e-02,  6.4253e-03,  2.1756e-02,\n",
              "          3.7200e-02, -8.3173e-02,  1.7022e-02, -2.7523e-02,  3.0964e-02,\n",
              "          5.4948e-03,  2.2925e-02, -5.5792e-02, -2.6670e-02,  9.2771e-03],\n",
              "        [-5.0660e-02,  2.7420e-02,  2.3624e-02,  1.4711e-02, -7.0250e-03,\n",
              "         -3.1859e-02, -3.9513e-03,  2.1326e-02, -2.1537e-02, -6.1098e-02,\n",
              "          5.5250e-03,  3.2361e-02,  2.0547e-02,  1.4732e-02, -1.0580e-03,\n",
              "         -9.6708e-04,  3.9252e-02,  1.0083e-02, -3.9472e-02,  1.7071e-02],\n",
              "        [-7.9584e-04,  1.6481e-04, -2.5880e-03, -2.8951e-02,  3.9243e-03,\n",
              "          1.4104e-02,  1.6187e-02, -1.2584e-02, -1.0657e-03, -4.0192e-02,\n",
              "         -5.4967e-03,  4.4911e-02, -1.9230e-02,  3.4692e-02, -6.6154e-03,\n",
              "         -3.5600e-02,  3.6193e-04,  4.1104e-02, -3.5318e-03,  1.8027e-02],\n",
              "        [ 6.4912e-02, -1.1619e-02,  1.6127e-02, -5.3017e-02,  2.8328e-02,\n",
              "          5.3664e-02,  4.3328e-02, -4.4355e-02, -2.8336e-03,  4.8835e-02,\n",
              "          7.3247e-02, -1.8835e-02, -1.3915e-02,  1.3611e-02,  7.0146e-02,\n",
              "         -6.2505e-02, -2.7874e-02, -1.1274e-02, -1.6496e-02,  2.2048e-02],\n",
              "        [ 1.3280e-02,  3.4127e-02, -1.5345e-02, -3.8853e-02, -1.0059e-02,\n",
              "          4.5700e-02,  3.1039e-03,  6.6248e-03,  4.9273e-03, -2.8921e-02,\n",
              "         -1.4272e-02,  2.7432e-02,  6.4848e-03,  3.7231e-02,  4.1805e-03,\n",
              "         -1.5707e-02,  1.4763e-02,  3.1917e-02, -2.4335e-02,  4.0593e-02],\n",
              "        [ 4.8051e-03,  3.1852e-03,  1.4748e-02,  3.6622e-03,  1.2457e-02,\n",
              "         -1.2009e-02, -3.6559e-03, -1.6756e-02, -4.5473e-03, -5.5859e-03,\n",
              "         -2.2209e-02,  7.0394e-03, -6.6714e-03, -1.8717e-02, -2.6192e-03,\n",
              "          1.5801e-02,  2.9760e-04, -7.8736e-03, -3.3147e-03, -2.2852e-02],\n",
              "        [ 9.1785e-03,  5.6773e-03,  9.6436e-03, -4.5447e-02,  1.2487e-02,\n",
              "          2.0250e-02,  1.6715e-02, -2.9937e-02, -5.4550e-03, -3.5470e-02,\n",
              "         -6.9851e-03,  4.1179e-02, -1.7070e-02,  2.2573e-02,  1.8952e-03,\n",
              "         -4.5923e-02, -3.6255e-03,  4.2793e-02, -1.9116e-02,  9.5137e-03],\n",
              "        [ 9.7743e-03,  2.1929e-02,  2.0899e-02, -1.1391e-02,  1.2782e-02,\n",
              "          1.6223e-02,  1.1846e-02,  4.7912e-03, -1.0247e-02, -9.8318e-03,\n",
              "          3.4552e-02,  4.1066e-03,  8.4127e-03,  1.2132e-02,  3.1473e-02,\n",
              "         -1.4696e-02,  1.8715e-02, -8.8859e-03, -3.7951e-02,  2.2744e-02],\n",
              "        [-5.5144e-02, -4.9393e-02,  1.3112e-03, -1.2684e-02,  8.2551e-03,\n",
              "         -3.9447e-02, -2.5261e-02, -4.4010e-02, -2.2641e-02, -4.5187e-02,\n",
              "         -4.0358e-02,  9.1543e-02,  6.6633e-03,  2.1467e-02, -3.6983e-02,\n",
              "         -5.4158e-03, -1.3040e-02,  5.4001e-02, -3.9955e-03, -9.7100e-03],\n",
              "        [-2.4783e-02,  1.3958e-02,  1.7282e-02,  7.6107e-03,  2.5450e-02,\n",
              "          1.9611e-02,  3.6420e-02,  3.5426e-02, -1.1326e-02, -1.0215e-02,\n",
              "          5.8421e-02,  5.0006e-02, -8.5736e-03,  1.2584e-02,  6.8620e-03,\n",
              "         -3.6367e-02,  5.8812e-02,  2.0558e-02, -4.3885e-02,  4.6155e-02],\n",
              "        [-1.3893e-02, -3.0197e-02, -2.2329e-03, -6.8856e-04,  1.7184e-02,\n",
              "         -7.9958e-03,  4.5708e-03, -7.4160e-03, -8.7386e-04,  7.3639e-03,\n",
              "          1.2784e-02,  2.8625e-02, -1.1428e-02,  6.5880e-03, -1.8141e-02,\n",
              "         -1.8543e-02, -6.6325e-03,  2.5895e-02,  7.9604e-03, -1.3504e-03],\n",
              "        [ 2.3963e-02, -1.1213e-02, -1.6008e-03, -9.7690e-03,  8.6514e-03,\n",
              "          1.5727e-02,  7.8457e-03, -8.4727e-03,  7.4195e-03,  2.4529e-02,\n",
              "          1.0408e-02, -1.8291e-02, -1.3217e-02, -9.4840e-03,  4.1845e-03,\n",
              "         -1.3830e-02, -1.5167e-02, -3.7551e-03,  9.6233e-03, -8.6407e-03],\n",
              "        [-5.4244e-03, -1.2646e-02, -1.3870e-02,  1.0075e-02, -1.0684e-02,\n",
              "         -7.5469e-03, -1.2695e-02,  2.8434e-03,  6.7638e-03,  1.2409e-02,\n",
              "         -1.9787e-02, -1.2395e-02,  7.9300e-04, -1.2831e-02, -1.8416e-02,\n",
              "          1.4228e-02, -1.0258e-02, -1.8117e-03,  2.0438e-02, -1.4289e-02],\n",
              "        [ 7.3351e-03, -2.5012e-02, -1.2919e-02, -2.4645e-03,  2.1573e-02,\n",
              "          3.0434e-02,  2.3852e-02,  1.6433e-02,  1.5124e-02,  6.6676e-02,\n",
              "          4.3916e-02, -1.0494e-02, -1.9880e-02, -2.3891e-02, -1.7452e-02,\n",
              "         -4.0764e-02,  3.0465e-03,  2.2031e-02,  8.7226e-03,  5.3787e-03],\n",
              "        [ 2.1628e-02,  5.1486e-02,  9.7764e-04,  2.5352e-02, -3.5731e-02,\n",
              "          7.0986e-03,  2.0232e-03,  4.2606e-02,  5.7262e-03, -5.6871e-03,\n",
              "          1.6866e-02, -7.3930e-02,  1.9265e-02,  6.4471e-04,  4.2734e-02,\n",
              "          3.2567e-02,  1.6662e-02, -6.5537e-02, -2.1338e-03,  1.6088e-02],\n",
              "        [ 2.4222e-02,  3.3022e-02, -7.3455e-03, -3.7076e-02,  3.3954e-03,\n",
              "          3.5206e-02, -2.2050e-03, -1.5755e-02, -3.2696e-04, -5.0050e-03,\n",
              "         -1.1110e-02,  2.6455e-02,  1.9248e-02,  3.3608e-02,  2.3966e-02,\n",
              "          7.6489e-03,  4.3327e-03,  1.4622e-02, -2.6702e-02,  3.4070e-02],\n",
              "        [ 1.7821e-02,  3.9089e-02, -6.1977e-03,  4.0668e-02, -6.2512e-02,\n",
              "          2.2051e-02, -3.2698e-02,  7.5059e-02,  9.9294e-04,  4.7906e-02,\n",
              "          5.6448e-02, -1.4753e-01,  7.2975e-02, -2.5929e-02,  6.8098e-02,\n",
              "          4.9804e-02,  1.4843e-02, -1.1950e-01, -2.5041e-02,  2.6346e-02],\n",
              "        [ 1.4872e-02,  5.0244e-02,  4.2579e-03,  9.4617e-03,  3.1201e-02,\n",
              "         -3.5928e-02, -1.3639e-02, -7.0347e-03,  2.0518e-02, -3.8830e-02,\n",
              "         -8.2026e-02,  2.8775e-02, -2.6842e-02,  4.3458e-03, -5.2315e-02,\n",
              "          5.6446e-02, -7.6743e-04,  3.2673e-02,  2.3226e-02, -4.2065e-02],\n",
              "        [ 8.6798e-04, -1.0134e-02,  3.0564e-02,  5.3464e-03,  3.4185e-02,\n",
              "          1.3605e-04,  2.5497e-02, -5.6776e-03, -1.8718e-02,  2.4715e-02,\n",
              "          7.5403e-02,  1.4789e-02,  5.5191e-03,  5.6698e-03,  4.4413e-02,\n",
              "         -2.0115e-02,  1.5963e-02, -1.9302e-02, -3.2913e-02,  2.2319e-02],\n",
              "        [-2.0951e-02, -2.0924e-02,  3.8388e-02,  3.0427e-02,  4.0869e-02,\n",
              "         -3.2289e-02,  2.4527e-02,  1.8876e-02, -1.6253e-02,  6.8340e-03,\n",
              "          9.5343e-02,  6.7837e-03, -6.0251e-03,  9.9031e-03,  2.1027e-02,\n",
              "         -2.8807e-02,  1.6103e-02, -1.3054e-02, -2.0902e-02,  9.5587e-03],\n",
              "        [ 1.3051e-02,  3.1252e-02,  1.2574e-02, -9.6207e-03,  1.8729e-02,\n",
              "         -1.4854e-02, -3.3727e-03, -1.4335e-02,  2.4101e-03, -1.9315e-02,\n",
              "         -1.7976e-02,  1.0714e-02, -5.7563e-04,  1.4522e-02, -7.0979e-04,\n",
              "          1.5478e-02, -4.6727e-03,  1.2808e-02, -6.1154e-03, -9.4096e-03],\n",
              "        [-2.1742e-02, -2.4981e-02,  9.7861e-03,  7.5471e-03,  1.3579e-02,\n",
              "         -1.0582e-02,  5.5491e-04, -2.6024e-04, -8.0266e-03, -1.5082e-02,\n",
              "          3.0887e-04,  3.0747e-02, -1.3817e-02, -8.5348e-03, -2.1210e-02,\n",
              "         -1.3445e-02,  8.9762e-03,  1.4258e-02, -5.5407e-03, -9.4261e-03],\n",
              "        [-3.1122e-02, -5.2630e-03,  1.3344e-02, -1.0999e-02,  2.1982e-02,\n",
              "         -2.9725e-02,  1.2192e-02, -1.5369e-02, -4.9719e-03, -4.0235e-02,\n",
              "         -8.0002e-03,  5.3646e-02, -2.2197e-02,  1.4184e-02, -3.5049e-02,\n",
              "         -3.5970e-02,  1.9794e-03,  6.0176e-02, -1.4360e-03, -1.0504e-02],\n",
              "        [-4.3879e-03, -9.9853e-03, -6.0523e-03, -3.2219e-03, -1.3125e-02,\n",
              "         -1.3580e-03, -7.2312e-03, -3.9616e-03, -1.9164e-03,  8.9214e-03,\n",
              "          4.1983e-03, -1.4072e-02,  1.2337e-02, -2.2487e-04,  6.0332e-03,\n",
              "         -3.1914e-03, -1.1112e-02, -4.9517e-03,  3.2454e-03,  1.3066e-03],\n",
              "        [-2.9631e-02,  4.9952e-02,  1.6062e-02,  3.9760e-03,  3.9821e-03,\n",
              "         -3.0669e-02, -1.2496e-02, -9.7894e-04, -1.2201e-02, -6.2267e-02,\n",
              "         -4.5590e-02,  5.2737e-02,  1.6165e-02,  1.8250e-02, -1.2323e-02,\n",
              "          3.4389e-02,  3.1948e-02,  2.2543e-02, -2.9222e-02,  5.0641e-03],\n",
              "        [ 1.4567e-02, -5.3193e-02, -3.0082e-02, -2.4699e-03, -2.1380e-02,\n",
              "          4.2785e-02,  1.0268e-02,  4.6578e-03,  7.5185e-03,  5.7691e-02,\n",
              "          2.9084e-02, -2.9349e-02, -7.4002e-03, -1.6095e-02,  1.1403e-02,\n",
              "         -2.5254e-02, -1.6495e-02, -2.1075e-02,  2.5845e-02,  1.3126e-02],\n",
              "        [ 1.2597e-02,  4.4799e-02,  8.7665e-03,  2.5319e-04, -6.5975e-03,\n",
              "          2.1212e-02,  1.5765e-02,  3.2333e-02,  1.6903e-03, -1.4280e-02,\n",
              "          2.7285e-02, -2.2085e-02,  5.1823e-03,  1.0651e-02,  2.5442e-02,\n",
              "         -6.8424e-03,  2.8123e-02, -1.6008e-02, -2.4931e-02,  2.7208e-02],\n",
              "        [ 6.8620e-05,  3.3589e-02,  9.1754e-03, -1.2425e-02,  1.4607e-02,\n",
              "         -1.2261e-03,  7.5714e-03, -2.1621e-02, -1.1413e-02, -1.7582e-02,\n",
              "         -1.0466e-02,  5.2929e-02,  1.4665e-02,  2.9084e-02,  2.3757e-02,\n",
              "          2.1750e-02,  1.8891e-02,  1.1157e-02, -2.5194e-02,  2.6205e-02],\n",
              "        [-4.3331e-02, -5.0296e-02, -5.5402e-02,  5.7845e-02, -4.9227e-02,\n",
              "         -5.1750e-02, -6.6816e-02,  1.4465e-02,  2.0179e-02,  4.6899e-02,\n",
              "         -9.2082e-02, -4.2366e-02,  2.1516e-02, -5.5864e-02, -7.8098e-02,\n",
              "          8.4892e-02, -3.4013e-02, -1.5755e-02,  7.8962e-02, -5.9911e-02]],\n",
              "       grad_fn=<TBackward0>)"
            ]
          },
          "execution_count": 35,
          "metadata": {},
          "output_type": "execute_result"
        }
      ],
      "source": [
        "train_grad=grad(train_loss,learner.layers[0].weight,retain_graph=True,\n",
        "                                 create_graph=True,\n",
        "                                 allow_unused=True)\n",
        "train_grad[0]"
      ]
    },
    {
      "cell_type": "markdown",
      "metadata": {
        "id": "jYzYDg3h1dhW"
      },
      "source": [
        "Next we ADAPT the learner by taking one step on the CLONED parameters in direction of the gradient of the TRAINING loss above. This is the part that the l2l libarary does for us as per the MAML algorithm."
      ]
    },
    {
      "cell_type": "code",
      "execution_count": 36,
      "metadata": {
        "id": "AJvtE00Q1dhW"
      },
      "outputs": [],
      "source": [
        "learner.adapt(train_loss)"
      ]
    },
    {
      "cell_type": "markdown",
      "metadata": {
        "id": "JtRamppW1dhW"
      },
      "source": [
        "We can check what has happended:"
      ]
    },
    {
      "cell_type": "code",
      "execution_count": 37,
      "metadata": {
        "id": "01d8vOOg1dhW"
      },
      "outputs": [
        {
          "data": {
            "text/plain": [
              "tensor([[ 0.1543,  0.1167, -0.1147,  0.0689, -0.0253,  0.1693, -0.0179, -0.1830,\n",
              "         -0.1073,  0.1854,  0.1330, -0.0323, -0.1769,  0.2066,  0.0740,  0.0810,\n",
              "         -0.1558, -0.2257,  0.2047, -0.0424],\n",
              "        [-0.0662,  0.0897,  0.1037,  0.0732,  0.0932, -0.1344, -0.0572, -0.1094,\n",
              "          0.2035,  0.1747, -0.0835,  0.1931,  0.1191, -0.1297, -0.0931, -0.1277,\n",
              "          0.1612,  0.0256, -0.0181, -0.1452],\n",
              "        [-0.0444,  0.1546,  0.1779,  0.1303,  0.1370, -0.0835, -0.0808,  0.0106,\n",
              "         -0.1254,  0.0404, -0.2204, -0.1787, -0.2143, -0.1942,  0.1826,  0.2078,\n",
              "         -0.2215,  0.1088, -0.1785, -0.1944],\n",
              "        [-0.1521,  0.1486, -0.0643, -0.1631, -0.0024,  0.0822,  0.0405, -0.0832,\n",
              "          0.1897, -0.0939,  0.0388,  0.0339, -0.1666, -0.0106, -0.0862, -0.1304,\n",
              "         -0.1991, -0.1562,  0.0836, -0.1240],\n",
              "        [ 0.0134,  0.1578, -0.1687, -0.1944,  0.1677, -0.1777,  0.0029, -0.0366,\n",
              "         -0.1011,  0.0848,  0.1000, -0.2167, -0.0424,  0.0826,  0.1275, -0.1226,\n",
              "          0.2052, -0.0360, -0.1110, -0.0875],\n",
              "        [-0.1531, -0.2078, -0.1032, -0.0954,  0.1119, -0.2036,  0.0743, -0.0933,\n",
              "          0.0032, -0.0554,  0.0612,  0.2137, -0.1378, -0.0213, -0.1399, -0.2000,\n",
              "         -0.0052,  0.0304, -0.1887, -0.1958],\n",
              "        [ 0.1552,  0.0270, -0.0182, -0.0875,  0.2033, -0.2096, -0.0146,  0.1032,\n",
              "         -0.1140,  0.0802,  0.1312, -0.2081,  0.0093,  0.0328, -0.0151, -0.2122,\n",
              "          0.1664, -0.0746, -0.1235,  0.1255],\n",
              "        [ 0.0099, -0.0370, -0.0239,  0.1259,  0.1083, -0.0555,  0.1079,  0.2042,\n",
              "          0.1224, -0.0749, -0.1561, -0.0272, -0.1334,  0.0332,  0.1688, -0.1971,\n",
              "          0.0378,  0.0318,  0.0182, -0.1354],\n",
              "        [-0.2160, -0.2201, -0.1610, -0.0753, -0.1102,  0.0075,  0.0907,  0.1507,\n",
              "          0.2196, -0.2031, -0.1458,  0.0936, -0.1044, -0.1616, -0.1013, -0.1671,\n",
              "          0.0566, -0.0449, -0.0727, -0.1631],\n",
              "        [ 0.2025, -0.1500, -0.1116,  0.0960, -0.1011,  0.1479, -0.0024, -0.0962,\n",
              "         -0.2062, -0.0345, -0.0535,  0.1621, -0.2156, -0.0320,  0.1098,  0.1277,\n",
              "         -0.0278, -0.0266, -0.1486,  0.1171],\n",
              "        [-0.1426,  0.1255, -0.1129, -0.1347,  0.0658, -0.0693, -0.1279, -0.0425,\n",
              "         -0.1615,  0.1495,  0.1190,  0.1763, -0.1298,  0.1126, -0.2147,  0.0681,\n",
              "          0.0143,  0.1990, -0.1772,  0.0702],\n",
              "        [-0.1014, -0.0392,  0.0515,  0.1331, -0.0593,  0.1816,  0.2042, -0.1768,\n",
              "          0.0300,  0.0601,  0.0332, -0.0094, -0.0567, -0.1040, -0.1995,  0.1040,\n",
              "         -0.1981,  0.1072, -0.2210,  0.1559],\n",
              "        [ 0.2058,  0.0235,  0.1722,  0.0498, -0.0870,  0.1460, -0.0869, -0.1520,\n",
              "          0.0101, -0.1926,  0.0381, -0.1139,  0.0521,  0.1678, -0.0768,  0.1259,\n",
              "          0.0704, -0.0921,  0.0984, -0.1184],\n",
              "        [ 0.1053, -0.1931,  0.0268, -0.2176,  0.0180, -0.1037, -0.0759, -0.1070,\n",
              "         -0.2065, -0.1790, -0.0231,  0.1954, -0.0863,  0.0439,  0.1531,  0.2166,\n",
              "         -0.1135, -0.1944,  0.0078,  0.0391],\n",
              "        [ 0.0037,  0.1431,  0.0299, -0.0740, -0.0035,  0.1341, -0.0742, -0.0306,\n",
              "          0.1783,  0.1847, -0.1065,  0.0036,  0.0072,  0.1599, -0.1921,  0.0041,\n",
              "         -0.0400, -0.2120,  0.1211,  0.0860],\n",
              "        [ 0.1039,  0.0100,  0.1927,  0.0710,  0.0934, -0.0334,  0.1782,  0.1486,\n",
              "          0.0645,  0.0365, -0.1096,  0.1276,  0.1799,  0.2092, -0.0930, -0.1560,\n",
              "          0.0076, -0.0875, -0.1890,  0.0770],\n",
              "        [ 0.1019,  0.0805,  0.1907,  0.0841, -0.1363,  0.0805, -0.2186, -0.0100,\n",
              "         -0.0545,  0.1464, -0.1893, -0.0407,  0.1312, -0.0436,  0.1942, -0.0252,\n",
              "         -0.1787,  0.0370,  0.0709, -0.1084],\n",
              "        [ 0.1170,  0.0074, -0.1828, -0.0455, -0.1980,  0.1942, -0.1160, -0.0744,\n",
              "          0.1327, -0.0204, -0.0005,  0.1705,  0.0221, -0.0645, -0.0943,  0.1801,\n",
              "         -0.1347, -0.1794, -0.0946, -0.1134],\n",
              "        [ 0.2042,  0.0847,  0.0452,  0.0333,  0.0207, -0.1382,  0.0964,  0.0040,\n",
              "         -0.2037, -0.1784,  0.1969, -0.0856,  0.2023, -0.0159, -0.1233, -0.0113,\n",
              "          0.1072,  0.0656,  0.0427,  0.1234],\n",
              "        [ 0.0370,  0.0119, -0.1341,  0.1717,  0.0972, -0.0969, -0.1165, -0.0038,\n",
              "          0.1133, -0.0944, -0.0123,  0.1161,  0.0796, -0.0822,  0.0211, -0.0054,\n",
              "         -0.1444, -0.0542,  0.1043,  0.0548],\n",
              "        [-0.1371,  0.0913, -0.0378,  0.0717, -0.1891, -0.0935,  0.2244, -0.0850,\n",
              "         -0.0749, -0.0559,  0.1617, -0.0306,  0.1298,  0.2118, -0.1526,  0.0652,\n",
              "          0.1982, -0.1300,  0.0808,  0.1395],\n",
              "        [-0.1641,  0.0193, -0.2084,  0.0343, -0.0639, -0.2065, -0.0489, -0.0793,\n",
              "         -0.1356, -0.1794,  0.1347, -0.0591, -0.1714, -0.0782,  0.1767, -0.0589,\n",
              "         -0.1768, -0.0890, -0.0336, -0.1244],\n",
              "        [ 0.0264, -0.0838,  0.0290, -0.1792,  0.1543,  0.2174, -0.0857, -0.2134,\n",
              "         -0.0521,  0.0079,  0.1562, -0.0159, -0.0658, -0.2200, -0.2035,  0.1744,\n",
              "          0.1547, -0.1802, -0.0065, -0.0899],\n",
              "        [ 0.0154, -0.0217, -0.2107,  0.0723,  0.2015,  0.1804, -0.0859,  0.0084,\n",
              "         -0.2157,  0.0555, -0.1653, -0.1905,  0.1853, -0.0042,  0.0972, -0.0927,\n",
              "         -0.0796, -0.0743, -0.1575, -0.0986],\n",
              "        [-0.0568, -0.1197, -0.0440, -0.2119,  0.0643, -0.1142, -0.1285, -0.0532,\n",
              "          0.1345,  0.0563,  0.1558, -0.0046,  0.0675,  0.0010, -0.1686,  0.1467,\n",
              "         -0.2037, -0.1609, -0.0559, -0.0956],\n",
              "        [-0.1816, -0.1630, -0.1842, -0.1201, -0.0684,  0.0900,  0.0932, -0.1809,\n",
              "          0.1334, -0.1953, -0.0152, -0.0952, -0.0630, -0.1644,  0.0256, -0.1472,\n",
              "          0.1496, -0.0382, -0.0377,  0.1015],\n",
              "        [-0.0886,  0.1295, -0.1575,  0.0821,  0.0102, -0.1441,  0.1969,  0.0314,\n",
              "         -0.1407, -0.0027, -0.0825, -0.2200, -0.1278, -0.0704,  0.0274,  0.2168,\n",
              "         -0.1613,  0.1360, -0.0974,  0.1898],\n",
              "        [-0.1607, -0.0291, -0.1930,  0.1316,  0.0311, -0.1488, -0.0767, -0.0779,\n",
              "          0.2010, -0.1575,  0.0693, -0.1608, -0.1959,  0.0424,  0.2106,  0.1202,\n",
              "         -0.1676, -0.2229,  0.0113, -0.1273],\n",
              "        [ 0.0628, -0.0679, -0.1591,  0.2151,  0.0846, -0.1913, -0.1017,  0.1433,\n",
              "         -0.0557,  0.0101,  0.1424,  0.0198, -0.0812, -0.1279, -0.0680, -0.0796,\n",
              "         -0.1833, -0.1608,  0.0114,  0.0441],\n",
              "        [-0.0196,  0.0523,  0.0147,  0.1281,  0.1350,  0.0585, -0.1223, -0.0873,\n",
              "          0.2198, -0.1234, -0.0750,  0.1378, -0.1655, -0.0167,  0.0583, -0.2222,\n",
              "          0.1450,  0.1839, -0.1068,  0.1084],\n",
              "        [-0.0376,  0.0496,  0.1152,  0.0549,  0.0999,  0.1417,  0.0255, -0.1371,\n",
              "         -0.1454,  0.1907,  0.1905, -0.1397,  0.1383, -0.1749, -0.1422, -0.2155,\n",
              "          0.0586, -0.1411, -0.0603,  0.1446],\n",
              "        [ 0.1082,  0.2239, -0.0025, -0.1238,  0.2007,  0.1808, -0.0141, -0.0180,\n",
              "          0.1052,  0.0738, -0.0530,  0.0672, -0.1005,  0.2202, -0.1977, -0.1556,\n",
              "         -0.0549, -0.1722, -0.0576,  0.0529]], grad_fn=<AddBackward0>)"
            ]
          },
          "execution_count": 37,
          "metadata": {},
          "output_type": "execute_result"
        }
      ],
      "source": [
        "learner.layers[0].weight"
      ]
    },
    {
      "cell_type": "code",
      "execution_count": 38,
      "metadata": {
        "id": "jSl4YwJd1dhW"
      },
      "outputs": [
        {
          "data": {
            "text/plain": [
              "tensor([[0.1000, 0.1000, 0.1000, 0.1000, 0.1000, 0.1000, 0.1000, 0.1000, 0.1000,\n",
              "         0.1000, 0.1000, 0.1000, 0.1000, 0.1000, 0.1000, 0.1000, 0.1000, 0.1000,\n",
              "         0.1000, 0.1000],\n",
              "        [0.1000, 0.1000, 0.1000, 0.1000, 0.1000, 0.1000, 0.1000, 0.1000, 0.1000,\n",
              "         0.1000, 0.1000, 0.1000, 0.1000, 0.1000, 0.1000, 0.1000, 0.1000, 0.1000,\n",
              "         0.1000, 0.1000],\n",
              "        [0.1000, 0.1000, 0.1000, 0.1000, 0.1000, 0.1000, 0.1000, 0.1000, 0.1000,\n",
              "         0.1000, 0.1000, 0.1000, 0.1000, 0.1000, 0.1000, 0.1000, 0.1000, 0.1000,\n",
              "         0.1000, 0.1000],\n",
              "        [0.1000, 0.1000, 0.1000, 0.1000, 0.1000, 0.1000, 0.1000, 0.1000, 0.1000,\n",
              "         0.1000, 0.1000, 0.1000, 0.1000, 0.1000, 0.1000, 0.1000, 0.1000, 0.1000,\n",
              "         0.1000, 0.1000],\n",
              "        [0.1000, 0.1000, 0.1000, 0.1000, 0.1000, 0.1000, 0.1000, 0.1000, 0.1000,\n",
              "         0.1000, 0.1000, 0.1000, 0.1000, 0.1000, 0.1000, 0.1000, 0.1000, 0.1000,\n",
              "         0.1000, 0.1000],\n",
              "        [0.1000, 0.1000, 0.1000, 0.1000, 0.1000, 0.1000, 0.1000, 0.1000, 0.1000,\n",
              "         0.1000, 0.1000, 0.1000, 0.1000, 0.1000, 0.1000, 0.1000, 0.1000, 0.1000,\n",
              "         0.1000, 0.1000],\n",
              "        [0.1000, 0.1000, 0.1000, 0.1000, 0.1000, 0.1000, 0.1000, 0.1000, 0.1000,\n",
              "         0.1000, 0.1000, 0.1000, 0.1000, 0.1000, 0.1000, 0.1000, 0.1000, 0.1000,\n",
              "         0.1000, 0.1000],\n",
              "        [0.1000, 0.1000, 0.1000, 0.1000, 0.1000, 0.1000, 0.1000, 0.1000, 0.1000,\n",
              "         0.1000, 0.1000, 0.1000, 0.1000, 0.1000, 0.1000, 0.1000, 0.1000, 0.1000,\n",
              "         0.1000, 0.1000],\n",
              "        [0.1000, 0.1000, 0.1000, 0.1000, 0.1000, 0.1000, 0.1000, 0.1000, 0.1000,\n",
              "         0.1000, 0.1000, 0.1000, 0.1000, 0.1000, 0.1000, 0.1000, 0.1000, 0.1000,\n",
              "         0.1000, 0.1000],\n",
              "        [0.1000, 0.1000, 0.1000, 0.1000, 0.1000, 0.1000, 0.1000, 0.1000, 0.1000,\n",
              "         0.1000, 0.1000, 0.1000, 0.1000, 0.1000, 0.1000, 0.1000, 0.1000, 0.1000,\n",
              "         0.1000, 0.1000],\n",
              "        [0.1000, 0.1000, 0.1000, 0.1000, 0.1000, 0.1000, 0.1000, 0.1000, 0.1000,\n",
              "         0.1000, 0.1000, 0.1000, 0.1000, 0.1000, 0.1000, 0.1000, 0.1000, 0.1000,\n",
              "         0.1000, 0.1000],\n",
              "        [0.1000, 0.1000, 0.1000, 0.1000, 0.1000, 0.1000, 0.1000, 0.1000, 0.1000,\n",
              "         0.1000, 0.1000, 0.1000, 0.1000, 0.1000, 0.1000, 0.1000, 0.1000, 0.1000,\n",
              "         0.1000, 0.1000],\n",
              "        [0.1000, 0.1000, 0.1000, 0.1000, 0.1000, 0.1000, 0.1000, 0.1000, 0.1000,\n",
              "         0.1000, 0.1000, 0.1000, 0.1000, 0.1000, 0.1000, 0.1000, 0.1000, 0.1000,\n",
              "         0.1000, 0.1000],\n",
              "        [0.1000, 0.1000, 0.1000, 0.1000, 0.1000, 0.1000, 0.1000, 0.1000, 0.1000,\n",
              "         0.1000, 0.1000, 0.1000, 0.1000, 0.1000, 0.1000, 0.1000, 0.1000, 0.1000,\n",
              "         0.1000, 0.1000],\n",
              "        [0.1000, 0.1000, 0.1000, 0.1000, 0.1000, 0.1000, 0.1000, 0.1000, 0.1000,\n",
              "         0.1000, 0.1000, 0.1000, 0.1000, 0.1000, 0.1000, 0.1000, 0.1000, 0.1000,\n",
              "         0.1000, 0.1000],\n",
              "        [0.1000, 0.1000, 0.1000, 0.1000, 0.1000, 0.1000, 0.1000, 0.1000, 0.1000,\n",
              "         0.1000, 0.1000, 0.1000, 0.1000, 0.1000, 0.1000, 0.1000, 0.1000, 0.1000,\n",
              "         0.1000, 0.1000],\n",
              "        [0.1000, 0.1000, 0.1000, 0.1000, 0.1000, 0.1000, 0.1000, 0.1000, 0.1000,\n",
              "         0.1000, 0.1000, 0.1000, 0.1000, 0.1000, 0.1000, 0.1000, 0.1000, 0.1000,\n",
              "         0.1000, 0.1000],\n",
              "        [0.1000, 0.1000, 0.1000, 0.1000, 0.1000, 0.1000, 0.1000, 0.1000, 0.1000,\n",
              "         0.1000, 0.1000, 0.1000, 0.1000, 0.1000, 0.1000, 0.1000, 0.1000, 0.1000,\n",
              "         0.1000, 0.1000],\n",
              "        [0.1000, 0.1000, 0.1000, 0.1000, 0.1000, 0.1000, 0.1000, 0.1000, 0.1000,\n",
              "         0.1000, 0.1000, 0.1000, 0.1000, 0.1000, 0.1000, 0.1000, 0.1000, 0.1000,\n",
              "         0.1000, 0.1000],\n",
              "        [0.1000, 0.1000, 0.1000, 0.1000, 0.1000, 0.1000, 0.1000, 0.1000, 0.1000,\n",
              "         0.1000, 0.1000, 0.1000, 0.1000, 0.1000, 0.1000, 0.1000, 0.1000, 0.1000,\n",
              "         0.1000, 0.1000],\n",
              "        [0.1000, 0.1000, 0.1000, 0.1000, 0.1000, 0.1000, 0.1000, 0.1000, 0.1000,\n",
              "         0.1000, 0.1000, 0.1000, 0.1000, 0.1000, 0.1000, 0.1000, 0.1000, 0.1000,\n",
              "         0.1000, 0.1000],\n",
              "        [0.1000, 0.1000, 0.1000, 0.1000, 0.1000, 0.1000, 0.1000, 0.1000, 0.1000,\n",
              "         0.1000, 0.1000, 0.1000, 0.1000, 0.1000, 0.1000, 0.1000, 0.1000, 0.1000,\n",
              "         0.1000, 0.1000],\n",
              "        [0.1000, 0.1000, 0.1000, 0.1000, 0.1000, 0.1000, 0.1000, 0.1000, 0.1000,\n",
              "         0.1000, 0.1000, 0.1000, 0.1000, 0.1000, 0.1000, 0.1000, 0.1000, 0.1000,\n",
              "         0.1000, 0.1000],\n",
              "        [0.1000, 0.1000, 0.1000, 0.1000, 0.1000, 0.1000, 0.1000, 0.1000, 0.1000,\n",
              "         0.1000, 0.1000, 0.1000, 0.1000, 0.1000, 0.1000, 0.1000, 0.1000, 0.1000,\n",
              "         0.1000, 0.1000],\n",
              "        [0.1000, 0.1000, 0.1000, 0.1000, 0.1000, 0.1000, 0.1000, 0.1000, 0.1000,\n",
              "         0.1000, 0.1000, 0.1000, 0.1000, 0.1000, 0.1000, 0.1000, 0.1000, 0.1000,\n",
              "         0.1000, 0.1000],\n",
              "        [0.1000, 0.1000, 0.1000, 0.1000, 0.1000, 0.1000, 0.1000, 0.1000, 0.1000,\n",
              "         0.1000, 0.1000, 0.1000, 0.1000, 0.1000, 0.1000, 0.1000, 0.1000, 0.1000,\n",
              "         0.1000, 0.1000],\n",
              "        [0.1000, 0.1000, 0.1000, 0.1000, 0.1000, 0.1000, 0.1000, 0.1000, 0.1000,\n",
              "         0.1000, 0.1000, 0.1000, 0.1000, 0.1000, 0.1000, 0.1000, 0.1000, 0.1000,\n",
              "         0.1000, 0.1000],\n",
              "        [0.1000, 0.1000, 0.1000, 0.1000, 0.1000, 0.1000, 0.1000, 0.1000, 0.1000,\n",
              "         0.1000, 0.1000, 0.1000, 0.1000, 0.1000, 0.1000, 0.1000, 0.1000, 0.1000,\n",
              "         0.1000, 0.1000],\n",
              "        [0.1000, 0.1000, 0.1000, 0.1000, 0.1000, 0.1000, 0.1000, 0.1000, 0.1000,\n",
              "         0.1000, 0.1000, 0.1000, 0.1000, 0.1000, 0.1000, 0.1000, 0.1000, 0.1000,\n",
              "         0.1000, 0.1000],\n",
              "        [0.1000, 0.1000, 0.1000, 0.1000, 0.1000, 0.1000, 0.1000, 0.1000, 0.1000,\n",
              "         0.1000, 0.1000, 0.1000, 0.1000, 0.1000, 0.1000, 0.1000, 0.1000, 0.1000,\n",
              "         0.1000, 0.1000],\n",
              "        [0.1000, 0.1000, 0.1000, 0.1000, 0.1000, 0.1000, 0.1000, 0.1000, 0.1000,\n",
              "         0.1000, 0.1000, 0.1000, 0.1000, 0.1000, 0.1000, 0.1000, 0.1000, 0.1000,\n",
              "         0.1000, 0.1000],\n",
              "        [0.1000, 0.1000, 0.1000, 0.1000, 0.1000, 0.1000, 0.1000, 0.1000, 0.1000,\n",
              "         0.1000, 0.1000, 0.1000, 0.1000, 0.1000, 0.1000, 0.1000, 0.1000, 0.1000,\n",
              "         0.1000, 0.1000]], grad_fn=<DivBackward0>)"
            ]
          },
          "execution_count": 38,
          "metadata": {},
          "output_type": "execute_result"
        }
      ],
      "source": [
        "(net.layers[0].weight - learner.layers[0].weight)/train_grad[0]"
      ]
    },
    {
      "cell_type": "markdown",
      "metadata": {
        "id": "-HgVlYZU1dhX"
      },
      "source": [
        "So one step in the diretion of the gradient (w.r.t train_loss) has been taken. Next we compute the loss of this ADAPTED learner w.r.t. the TEST data of the task, i.e., d_test:"
      ]
    },
    {
      "cell_type": "code",
      "execution_count": 39,
      "metadata": {
        "id": "-Pp5a0c11dhX"
      },
      "outputs": [],
      "source": [
        "test_preds = learner(d_test[0])\n",
        "adapt_loss = lossfn(test_preds,d_test[1])"
      ]
    },
    {
      "cell_type": "markdown",
      "metadata": {
        "id": "lQoWmk3z1dhX"
      },
      "source": [
        "The main MAML update to the original network net takes place now, by back-propagating through the (cumulative) adaptation loss (across possibly many tasks, here there was just one):"
      ]
    },
    {
      "cell_type": "code",
      "execution_count": 40,
      "metadata": {
        "id": "p-5D0P_U1dhX"
      },
      "outputs": [],
      "source": [
        "task_count = 1\n",
        "optimizer.zero_grad()\n",
        "total_loss = adapt_loss/task_count\n",
        "total_loss.backward()"
      ]
    },
    {
      "cell_type": "code",
      "execution_count": 41,
      "metadata": {
        "id": "j3yPD1TS1dhX"
      },
      "outputs": [
        {
          "data": {
            "text/plain": [
              "Parameter containing:\n",
              "tensor([[ 1.5658e-01,  1.2070e-01, -1.0942e-01,  6.6487e-02, -1.7291e-02,\n",
              "          1.7042e-01, -1.2543e-02, -1.8656e-01, -1.0906e-01,  1.8757e-01,\n",
              "          1.3886e-01, -2.5795e-02, -1.7816e-01,  2.0719e-01,  7.8552e-02,\n",
              "          7.8238e-02, -1.5214e-01, -2.2349e-01,  1.9868e-01, -4.0118e-02],\n",
              "        [-6.4747e-02,  9.0736e-02,  1.0805e-01,  7.1763e-02,  9.7771e-02,\n",
              "         -1.3501e-01, -5.4242e-02, -1.1329e-01,  2.0106e-01,  1.7441e-01,\n",
              "         -7.8762e-02,  1.9747e-01,  1.1903e-01, -1.2776e-01, -8.7668e-02,\n",
              "         -1.2906e-01,  1.6224e-01,  2.4776e-02, -2.2069e-02, -1.4358e-01],\n",
              "        [-4.1849e-02,  1.5447e-01,  1.7760e-01,  1.2911e-01,  1.3801e-01,\n",
              "         -8.1873e-02, -7.9927e-02,  9.1498e-03, -1.2497e-01,  4.2245e-02,\n",
              "         -2.1970e-01, -1.7867e-01, -2.1501e-01, -1.9356e-01,  1.8407e-01,\n",
              "          2.0775e-01, -2.2246e-01,  1.0841e-01, -1.7802e-01, -1.9398e-01],\n",
              "        [-1.4950e-01,  1.5255e-01, -6.3337e-02, -1.6172e-01, -4.0041e-03,\n",
              "          8.5283e-02,  4.0467e-02, -7.8128e-02,  1.9034e-01, -9.1704e-02,\n",
              "          4.2540e-02,  2.5598e-02, -1.6488e-01, -1.3390e-02, -8.3074e-02,\n",
              "         -1.2981e-01, -1.9679e-01, -1.6182e-01,  8.0924e-02, -1.2307e-01],\n",
              "        [ 8.3175e-03,  1.6052e-01, -1.6629e-01, -1.9295e-01,  1.6702e-01,\n",
              "         -1.8086e-01,  2.4831e-03, -3.4516e-02, -1.0330e-01,  7.8649e-02,\n",
              "          1.0057e-01, -2.1348e-01, -4.0352e-02,  8.4112e-02,  1.2736e-01,\n",
              "         -1.2274e-01,  2.0910e-01, -3.4977e-02, -1.1491e-01, -8.5749e-02],\n",
              "        [-1.5318e-01, -2.0781e-01, -1.0345e-01, -9.8271e-02,  1.1226e-01,\n",
              "         -2.0222e-01,  7.5949e-02, -9.4590e-02,  3.0940e-03, -5.9377e-02,\n",
              "          6.0695e-02,  2.1818e-01, -1.3976e-01, -1.7861e-02, -1.4055e-01,\n",
              "         -2.0358e-01, -5.2089e-03,  3.4510e-02, -1.8904e-01, -1.9399e-01],\n",
              "        [ 1.6168e-01,  2.5803e-02, -1.6631e-02, -9.2810e-02,  2.0618e-01,\n",
              "         -2.0424e-01, -1.0263e-02,  9.8762e-02, -1.1429e-01,  8.5089e-02,\n",
              "          1.3856e-01, -2.0997e-01,  7.9560e-03,  3.4197e-02, -8.0763e-03,\n",
              "         -2.1850e-01,  1.6357e-01, -7.5741e-02, -1.2514e-01,  1.2773e-01],\n",
              "        [ 1.1270e-02, -3.3624e-02, -2.5413e-02,  1.2205e-01,  1.0729e-01,\n",
              "         -5.0948e-02,  1.0818e-01,  2.0489e-01,  1.2293e-01, -7.7796e-02,\n",
              "         -1.5748e-01, -2.4449e-02, -1.3277e-01,  3.6943e-02,  1.6923e-01,\n",
              "         -1.9863e-01,  3.9264e-02,  3.5007e-02,  1.5725e-02, -1.3133e-01],\n",
              "        [-2.1557e-01, -2.1981e-01, -1.5956e-01, -7.4898e-02, -1.0892e-01,\n",
              "          6.3235e-03,  9.0337e-02,  1.4907e-01,  2.1917e-01, -2.0367e-01,\n",
              "         -1.4806e-01,  9.4326e-02, -1.0509e-01, -1.6350e-01, -1.0154e-01,\n",
              "         -1.6553e-01,  5.6661e-02, -4.5704e-02, -7.3081e-02, -1.6538e-01],\n",
              "        [ 2.0343e-01, -1.4940e-01, -1.1066e-01,  9.1435e-02, -9.9803e-02,\n",
              "          1.4997e-01, -6.8106e-04, -9.9147e-02, -2.0671e-01, -3.8019e-02,\n",
              "         -5.4150e-02,  1.6619e-01, -2.1733e-01, -2.9759e-02,  1.0998e-01,\n",
              "          1.2308e-01, -2.8149e-02, -2.2319e-02, -1.5046e-01,  1.1804e-01],\n",
              "        [-1.4165e-01,  1.2767e-01, -1.1081e-01, -1.3584e-01,  6.7076e-02,\n",
              "         -6.7631e-02, -1.2675e-01, -4.1973e-02, -1.6251e-01,  1.4852e-01,\n",
              "          1.2247e-01,  1.7667e-01, -1.2894e-01,  1.1377e-01, -2.1157e-01,\n",
              "          6.6601e-02,  1.6133e-02,  1.9809e-01, -1.8101e-01,  7.2438e-02],\n",
              "        [-1.0696e-01, -4.4158e-02,  5.1608e-02,  1.3181e-01, -5.8477e-02,\n",
              "          1.7769e-01,  2.0167e-01, -1.8123e-01,  2.7744e-02,  5.5545e-02,\n",
              "          2.9128e-02, -2.4174e-04, -5.6060e-02, -1.0185e-01, -2.0324e-01,\n",
              "          1.0347e-01, -1.9940e-01,  1.1260e-01, -2.2136e-01,  1.5497e-01],\n",
              "        [ 2.0337e-01,  2.4865e-02,  1.7389e-01,  5.0594e-02, -8.4462e-02,\n",
              "          1.4793e-01, -8.3226e-02, -1.4847e-01,  8.9565e-03, -1.9362e-01,\n",
              "          4.3967e-02, -1.0888e-01,  5.1281e-02,  1.6906e-01, -7.6126e-02,\n",
              "          1.2226e-01,  7.6277e-02, -8.9996e-02,  9.4033e-02, -1.1381e-01],\n",
              "        [ 1.0387e-01, -1.9608e-01,  2.6603e-02, -2.1764e-01,  1.9701e-02,\n",
              "         -1.0449e-01, -7.5482e-02, -1.0775e-01, -2.0657e-01, -1.7826e-01,\n",
              "         -2.1788e-02,  1.9830e-01, -8.7429e-02,  4.4560e-02,  1.5127e-01,\n",
              "          2.1477e-01, -1.1414e-01, -1.9177e-01,  8.5735e-03,  3.8927e-02],\n",
              "        [ 6.1343e-03,  1.4199e-01,  2.9780e-02, -7.5022e-02, -2.6289e-03,\n",
              "          1.3567e-01, -7.3464e-02, -3.1435e-02,  1.7905e-01,  1.8716e-01,\n",
              "         -1.0550e-01,  1.7387e-03,  5.8584e-03,  1.5898e-01, -1.9171e-01,\n",
              "          2.7323e-03, -4.1495e-02, -2.1241e-01,  1.2206e-01,  8.5119e-02],\n",
              "        [ 1.0336e-01,  8.7841e-03,  1.9132e-01,  7.2023e-02,  9.2380e-02,\n",
              "         -3.4111e-02,  1.7689e-01,  1.4890e-01,  6.5189e-02,  3.7710e-02,\n",
              "         -1.1156e-01,  1.2635e-01,  1.7995e-01,  2.0792e-01, -9.4887e-02,\n",
              "         -1.5460e-01,  6.5909e-03, -8.7668e-02, -1.8700e-01,  7.5541e-02],\n",
              "        [ 1.0263e-01,  7.8020e-02,  1.8945e-01,  8.3898e-02, -1.3416e-01,\n",
              "          8.3541e-02, -2.1620e-01, -8.3134e-03, -5.3005e-02,  1.5303e-01,\n",
              "         -1.8493e-01, -4.1729e-02,  1.2924e-01, -4.5959e-02,  1.9249e-01,\n",
              "         -2.9313e-02, -1.7842e-01,  3.9178e-02,  7.1780e-02, -1.0782e-01],\n",
              "        [ 1.1914e-01,  1.2582e-02, -1.8268e-01, -4.2971e-02, -2.0157e-01,\n",
              "          1.9494e-01, -1.1579e-01, -7.0120e-02,  1.3331e-01, -2.0982e-02,\n",
              "          1.2029e-03,  1.6310e-01,  2.4068e-02, -6.4465e-02, -9.0030e-02,\n",
              "          1.8339e-01, -1.3299e-01, -1.8592e-01, -9.4786e-02, -1.1179e-01],\n",
              "        [ 2.0663e-01,  8.7962e-02,  4.4511e-02,  2.9604e-02,  2.1073e-02,\n",
              "         -1.3466e-01,  9.6155e-02,  2.3791e-03, -2.0378e-01, -1.7885e-01,\n",
              "          1.9580e-01, -8.2996e-02,  2.0420e-01, -1.2574e-02, -1.2093e-01,\n",
              "         -1.0510e-02,  1.0763e-01,  6.7046e-02,  4.0075e-02,  1.2679e-01],\n",
              "        [ 3.8802e-02,  1.5850e-02, -1.3470e-01,  1.7574e-01,  9.0932e-02,\n",
              "         -9.4659e-02, -1.1981e-01,  3.7275e-03,  1.1338e-01, -8.9647e-02,\n",
              "         -6.6621e-03,  1.0133e-01,  8.6902e-02, -8.4826e-02,  2.7915e-02,\n",
              "         -4.1040e-04, -1.4287e-01, -6.6199e-02,  1.0179e-01,  5.7386e-02],\n",
              "        [-1.3561e-01,  9.6288e-02, -3.7418e-02,  7.2676e-02, -1.8599e-01,\n",
              "         -9.7082e-02,  2.2306e-01, -8.5736e-02, -7.2809e-02, -5.9779e-02,\n",
              "          1.5345e-01, -2.7740e-02,  1.2711e-01,  2.1226e-01, -1.5782e-01,\n",
              "          7.0888e-02,  1.9817e-01, -1.2675e-01,  8.3073e-02,  1.3531e-01],\n",
              "        [-1.6400e-01,  1.8290e-02, -2.0535e-01,  3.4836e-02, -6.0437e-02,\n",
              "         -2.0652e-01, -4.6342e-02, -7.9908e-02, -1.3746e-01, -1.7694e-01,\n",
              "          1.4219e-01, -5.7644e-02, -1.7090e-01, -7.7670e-02,  1.8110e-01,\n",
              "         -6.0958e-02, -1.7518e-01, -9.0906e-02, -3.6843e-02, -1.2215e-01],\n",
              "        [ 2.4266e-02, -8.5891e-02,  3.2888e-02, -1.7618e-01,  1.5838e-01,\n",
              "          2.1413e-01, -8.3265e-02, -2.1148e-01, -5.3692e-02,  8.5746e-03,\n",
              "          1.6572e-01, -1.5245e-02, -6.6418e-02, -2.1902e-01, -2.0137e-01,\n",
              "          1.7152e-01,  1.5635e-01, -1.8152e-01, -8.6310e-03, -8.8991e-02],\n",
              "        [ 1.6658e-02, -1.8623e-02, -2.0940e-01,  7.1383e-02,  2.0341e-01,\n",
              "          1.7890e-01, -8.6205e-02,  6.9357e-03, -2.1547e-01,  5.3597e-02,\n",
              "         -1.6710e-01, -1.8940e-01,  1.8528e-01, -2.7459e-03,  9.7129e-02,\n",
              "         -9.1174e-02, -8.0112e-02, -7.3009e-02, -1.5810e-01, -9.9535e-02],\n",
              "        [-5.8954e-02, -1.2219e-01, -4.3048e-02, -2.1110e-01,  6.5624e-02,\n",
              "         -1.1523e-01, -1.2839e-01, -5.3264e-02,  1.3366e-01,  5.4794e-02,\n",
              "          1.5581e-01, -1.5108e-03,  6.6133e-02,  1.5458e-04, -1.7072e-01,\n",
              "          1.4537e-01, -2.0285e-01, -1.5946e-01, -5.6450e-02, -9.6563e-02],\n",
              "        [-1.8472e-01, -1.6351e-01, -1.8282e-01, -1.2118e-01, -6.6222e-02,\n",
              "          8.7009e-02,  9.4369e-02, -1.8248e-01,  1.3287e-01, -1.9928e-01,\n",
              "         -1.5987e-02, -8.9795e-02, -6.5267e-02, -1.6303e-01,  2.2094e-02,\n",
              "         -1.5083e-01,  1.4976e-01, -3.2178e-02, -3.7796e-02,  1.0046e-01],\n",
              "        [-8.9085e-02,  1.2852e-01, -1.5815e-01,  8.1812e-02,  8.9303e-03,\n",
              "         -1.4426e-01,  1.9619e-01,  3.1017e-02, -1.4087e-01, -1.7845e-03,\n",
              "         -8.2105e-02, -2.2143e-01, -1.2661e-01, -7.0378e-02,  2.7997e-02,\n",
              "          2.1652e-01, -1.6238e-01,  1.3554e-01, -9.7100e-02,  1.8992e-01],\n",
              "        [-1.6369e-01, -2.4096e-02, -1.9139e-01,  1.3197e-01,  3.1520e-02,\n",
              "         -1.5191e-01, -7.7983e-02, -7.8000e-02,  1.9982e-01, -1.6372e-01,\n",
              "          6.4780e-02, -1.5550e-01, -1.9430e-01,  4.4195e-02,  2.0940e-01,\n",
              "          1.2360e-01, -1.6444e-01, -2.2060e-01,  8.4141e-03, -1.2682e-01],\n",
              "        [ 6.4281e-02, -7.3202e-02, -1.6216e-01,  2.1487e-01,  8.2500e-02,\n",
              "         -1.8703e-01, -1.0071e-01,  1.4378e-01, -5.4960e-02,  1.5874e-02,\n",
              "          1.4532e-01,  1.6845e-02, -8.1917e-02, -1.2949e-01, -6.6846e-02,\n",
              "         -8.2089e-02, -1.8491e-01, -1.6295e-01,  1.3961e-02,  4.5384e-02],\n",
              "        [-1.8306e-02,  5.6780e-02,  1.5608e-02,  1.2817e-01,  1.3433e-01,\n",
              "          6.0616e-02, -1.2072e-01, -8.4060e-02,  2.1996e-01, -1.2482e-01,\n",
              "         -7.2264e-02,  1.3555e-01, -1.6493e-01, -1.5664e-02,  6.0848e-02,\n",
              "         -2.2284e-01,  1.4784e-01,  1.8227e-01, -1.0931e-01,  1.1108e-01],\n",
              "        [-3.7603e-02,  5.2970e-02,  1.1611e-01,  5.3643e-02,  1.0137e-01,\n",
              "          1.4153e-01,  2.6243e-02, -1.3923e-01, -1.4655e-01,  1.8891e-01,\n",
              "          1.8948e-01, -1.3445e-01,  1.3973e-01, -1.7201e-01, -1.3983e-01,\n",
              "         -2.1337e-01,  6.0503e-02, -1.3999e-01, -6.2822e-02,  1.4723e-01],\n",
              "        [ 1.0391e-01,  2.1885e-01, -7.9920e-03, -1.1799e-01,  1.9582e-01,\n",
              "          1.7564e-01, -2.0754e-02, -1.6522e-02,  1.0718e-01,  7.8535e-02,\n",
              "         -6.2163e-02,  6.2927e-02, -9.8341e-02,  2.1462e-01, -2.0553e-01,\n",
              "         -1.4711e-01, -5.8270e-02, -1.7374e-01, -4.9662e-02,  4.6914e-02]],\n",
              "       requires_grad=True)"
            ]
          },
          "execution_count": 41,
          "metadata": {},
          "output_type": "execute_result"
        }
      ],
      "source": [
        "net.layers[0].weight"
      ]
    },
    {
      "cell_type": "code",
      "execution_count": 42,
      "metadata": {
        "id": "zdq8ERqb1dhX"
      },
      "outputs": [],
      "source": [
        "optimizer.step()"
      ]
    },
    {
      "cell_type": "code",
      "execution_count": 43,
      "metadata": {
        "id": "e74Q_2eH1dhX"
      },
      "outputs": [
        {
          "data": {
            "text/plain": [
              "Parameter containing:\n",
              "tensor([[ 0.1576,  0.1197, -0.1104,  0.0655, -0.0183,  0.1694, -0.0115, -0.1876,\n",
              "         -0.1081,  0.1886,  0.1399, -0.0268, -0.1792,  0.2062,  0.0776,  0.0772,\n",
              "         -0.1531, -0.2245,  0.1997, -0.0411],\n",
              "        [-0.0637,  0.0897,  0.1090,  0.0708,  0.0968, -0.1360, -0.0532, -0.1143,\n",
              "          0.2021,  0.1734, -0.0798,  0.1985,  0.1200, -0.1268, -0.0887, -0.1281,\n",
              "          0.1612,  0.0258, -0.0211, -0.1446],\n",
              "        [-0.0428,  0.1555,  0.1786,  0.1301,  0.1370, -0.0829, -0.0809,  0.0101,\n",
              "         -0.1240,  0.0412, -0.2207, -0.1797, -0.2160, -0.1926,  0.1831,  0.2087,\n",
              "         -0.2235,  0.1074, -0.1790, -0.1950],\n",
              "        [-0.1505,  0.1516, -0.0623, -0.1607, -0.0030,  0.0843,  0.0415, -0.0771,\n",
              "          0.1893, -0.0927,  0.0415,  0.0266, -0.1639, -0.0124, -0.0821, -0.1288,\n",
              "         -0.1958, -0.1628,  0.0799, -0.1221],\n",
              "        [ 0.0093,  0.1595, -0.1673, -0.1940,  0.1680, -0.1819,  0.0035, -0.0355,\n",
              "         -0.1023,  0.0796,  0.1016, -0.2145, -0.0414,  0.0831,  0.1264, -0.1237,\n",
              "          0.2081, -0.0360, -0.1139, -0.0867],\n",
              "        [-0.1542, -0.2068, -0.1024, -0.0973,  0.1133, -0.2012,  0.0749, -0.0956,\n",
              "          0.0021, -0.0604,  0.0597,  0.2192, -0.1388, -0.0189, -0.1396, -0.2026,\n",
              "         -0.0042,  0.0335, -0.1900, -0.1950],\n",
              "        [ 0.1607,  0.0268, -0.0156, -0.0918,  0.2072, -0.2032, -0.0113,  0.0998,\n",
              "         -0.1153,  0.0841,  0.1376, -0.2110,  0.0090,  0.0332, -0.0071, -0.2195,\n",
              "          0.1646, -0.0767, -0.1261,  0.1287],\n",
              "        [ 0.0103, -0.0326, -0.0264,  0.1231,  0.1063, -0.0519,  0.1072,  0.2039,\n",
              "          0.1219, -0.0768, -0.1565, -0.0254, -0.1318,  0.0359,  0.1702, -0.1996,\n",
              "          0.0403,  0.0340,  0.0167, -0.1323],\n",
              "        [-0.2166, -0.2208, -0.1606, -0.0759, -0.1079,  0.0053,  0.0893,  0.1481,\n",
              "          0.2182, -0.2027, -0.1471,  0.0953, -0.1061, -0.1645, -0.1005, -0.1665,\n",
              "          0.0577, -0.0467, -0.0721, -0.1644],\n",
              "        [ 0.2024, -0.1484, -0.1117,  0.0904, -0.0988,  0.1490, -0.0017, -0.1001,\n",
              "         -0.2057, -0.0370, -0.0531,  0.1672, -0.2163, -0.0308,  0.1110,  0.1221,\n",
              "         -0.0271, -0.0233, -0.1495,  0.1170],\n",
              "        [-0.1427,  0.1287, -0.1118, -0.1348,  0.0661, -0.0666, -0.1277, -0.0430,\n",
              "         -0.1615,  0.1495,  0.1215,  0.1777, -0.1279,  0.1148, -0.2106,  0.0676,\n",
              "          0.0171,  0.1971, -0.1800,  0.0714],\n",
              "        [-0.1080, -0.0452,  0.0506,  0.1328, -0.0575,  0.1767,  0.2007, -0.1802,\n",
              "          0.0267,  0.0565,  0.0301,  0.0008, -0.0551, -0.1029, -0.2042,  0.1025,\n",
              "         -0.1984,  0.1116, -0.2204,  0.1540],\n",
              "        [ 0.2024,  0.0259,  0.1729,  0.0496, -0.0855,  0.1469, -0.0842, -0.1475,\n",
              "          0.0100, -0.1946,  0.0430, -0.1099,  0.0523,  0.1701, -0.0771,  0.1213,\n",
              "          0.0773, -0.0890,  0.0930, -0.1148],\n",
              "        [ 0.1049, -0.1971,  0.0276, -0.2186,  0.0207, -0.1035, -0.0745, -0.1088,\n",
              "         -0.2076, -0.1793, -0.0208,  0.1993, -0.0884,  0.0456,  0.1503,  0.2138,\n",
              "         -0.1151, -0.1908,  0.0076,  0.0379],\n",
              "        [ 0.0051,  0.1410,  0.0308, -0.0740, -0.0016,  0.1367, -0.0725, -0.0304,\n",
              "          0.1780,  0.1862, -0.1065,  0.0027,  0.0069,  0.1600, -0.1907,  0.0037,\n",
              "         -0.0405, -0.2114,  0.1211,  0.0861],\n",
              "        [ 0.1044,  0.0078,  0.1923,  0.0710,  0.0914, -0.0351,  0.1759,  0.1479,\n",
              "          0.0662,  0.0367, -0.1126,  0.1253,  0.1809,  0.2089, -0.0959, -0.1536,\n",
              "          0.0056, -0.0867, -0.1880,  0.0745],\n",
              "        [ 0.1036,  0.0790,  0.1904,  0.0829, -0.1352,  0.0845, -0.2152, -0.0073,\n",
              "         -0.0520,  0.1520, -0.1859, -0.0407,  0.1302, -0.0450,  0.1915, -0.0303,\n",
              "         -0.1774,  0.0402,  0.0708, -0.1088],\n",
              "        [ 0.1201,  0.0116, -0.1837, -0.0440, -0.2006,  0.1939, -0.1168, -0.0711,\n",
              "          0.1323, -0.0200,  0.0022,  0.1621,  0.0231, -0.0655, -0.0890,  0.1824,\n",
              "         -0.1340, -0.1869, -0.0938, -0.1108],\n",
              "        [ 0.2056,  0.0890,  0.0455,  0.0306,  0.0201, -0.1337,  0.0972,  0.0014,\n",
              "         -0.2028, -0.1779,  0.1968, -0.0820,  0.2052, -0.0116, -0.1199, -0.0095,\n",
              "          0.1086,  0.0660,  0.0391,  0.1278],\n",
              "        [ 0.0378,  0.0149, -0.1337,  0.1767,  0.0919, -0.0957, -0.1208,  0.0047,\n",
              "          0.1124, -0.0906, -0.0077,  0.1003,  0.0859, -0.0838,  0.0269, -0.0014,\n",
              "         -0.1419, -0.0672,  0.1008,  0.0584],\n",
              "        [-0.1346,  0.0953, -0.0384,  0.0717, -0.1870, -0.0981,  0.2221, -0.0867,\n",
              "         -0.0718, -0.0588,  0.1545, -0.0287,  0.1261,  0.2113, -0.1588,  0.0699,\n",
              "          0.1972, -0.1277,  0.0841,  0.1343],\n",
              "        [-0.1650,  0.0173, -0.2043,  0.0358, -0.0594, -0.2055, -0.0453, -0.0789,\n",
              "         -0.1385, -0.1759,  0.1432, -0.0566, -0.1719, -0.0787,  0.1801, -0.0620,\n",
              "         -0.1742, -0.0899, -0.0378, -0.1231],\n",
              "        [ 0.0233, -0.0869,  0.0319, -0.1772,  0.1594,  0.2151, -0.0823, -0.2125,\n",
              "         -0.0547,  0.0076,  0.1647, -0.0142, -0.0654, -0.2180, -0.2004,  0.1705,\n",
              "          0.1574, -0.1805, -0.0096, -0.0880],\n",
              "        [ 0.0157, -0.0196, -0.2084,  0.0724,  0.2044,  0.1779, -0.0872,  0.0079,\n",
              "         -0.2165,  0.0526, -0.1681, -0.1904,  0.1843, -0.0037,  0.0961, -0.0922,\n",
              "         -0.0791, -0.0740, -0.1591, -0.1005],\n",
              "        [-0.0580, -0.1232, -0.0420, -0.2101,  0.0666, -0.1142, -0.1274, -0.0523,\n",
              "          0.1347,  0.0538,  0.1548, -0.0005,  0.0671,  0.0012, -0.1717,  0.1444,\n",
              "         -0.2019, -0.1585, -0.0574, -0.0976],\n",
              "        [-0.1837, -0.1625, -0.1818, -0.1222, -0.0672,  0.0880,  0.0954, -0.1835,\n",
              "          0.1339, -0.1983, -0.0150, -0.0888, -0.0643, -0.1640,  0.0231, -0.1518,\n",
              "          0.1488, -0.0312, -0.0388,  0.0995],\n",
              "        [-0.0901,  0.1295, -0.1572,  0.0828,  0.0079, -0.1453,  0.1952,  0.0300,\n",
              "         -0.1399, -0.0028, -0.0831, -0.2224, -0.1276, -0.0714,  0.0290,  0.2175,\n",
              "         -0.1614,  0.1345, -0.0981,  0.1889],\n",
              "        [-0.1627, -0.0251, -0.1924,  0.1310,  0.0305, -0.1529, -0.0770, -0.0790,\n",
              "          0.2008, -0.1627,  0.0658, -0.1565, -0.1953,  0.0452,  0.2084,  0.1226,\n",
              "         -0.1654, -0.2196,  0.0094, -0.1278],\n",
              "        [ 0.0633, -0.0722, -0.1632,  0.2139,  0.0815, -0.1860, -0.1017,  0.1428,\n",
              "         -0.0540,  0.0169,  0.1443,  0.0158, -0.0809, -0.1285, -0.0658, -0.0811,\n",
              "         -0.1859, -0.1639,  0.0150,  0.0444],\n",
              "        [-0.0193,  0.0578,  0.0146,  0.1292,  0.1353,  0.0616, -0.1217, -0.0831,\n",
              "          0.2190, -0.1238, -0.0713,  0.1346, -0.1659, -0.0167,  0.0618, -0.2238,\n",
              "          0.1488,  0.1813, -0.1083,  0.1121],\n",
              "        [-0.0366,  0.0520,  0.1151,  0.0526,  0.1004,  0.1405,  0.0272, -0.1402,\n",
              "         -0.1456,  0.1899,  0.1905, -0.1334,  0.1387, -0.1710, -0.1408, -0.2124,\n",
              "          0.0595, -0.1390, -0.0618,  0.1462],\n",
              "        [ 0.1049,  0.2178, -0.0090, -0.1190,  0.1968,  0.1766, -0.0198, -0.0175,\n",
              "          0.1062,  0.0775, -0.0612,  0.0619, -0.0993,  0.2156, -0.2065, -0.1481,\n",
              "         -0.0593, -0.1727, -0.0487,  0.0479]], requires_grad=True)"
            ]
          },
          "execution_count": 43,
          "metadata": {},
          "output_type": "execute_result"
        }
      ],
      "source": [
        "net.layers[0].weight"
      ]
    },
    {
      "cell_type": "markdown",
      "metadata": {
        "id": "ZhGOYJ5F1dhX"
      },
      "source": [
        "So, the original parameters have been updated by a gradient step using on all the task adaptation losses. "
      ]
    },
    {
      "cell_type": "markdown",
      "metadata": {
        "id": "dhQkNDoN1dhX"
      },
      "source": [
        "# Putting it all together: MAML Algorithm\n",
        "Now let's put all of the above in a loop - the MAML algorithm:"
      ]
    },
    {
      "cell_type": "code",
      "execution_count": 6,
      "metadata": {
        "id": "Ga8RuJqz1dhX"
      },
      "outputs": [],
      "source": [
        "import learn2learn as l2l\n",
        "import torch.optim as optim\n",
        "shots,ways = 5,5\n",
        "net = models.MLP(dims=[20,32,32,ways])\n",
        "# net = models.MLP(dims=[400,64,32,ways])\n",
        "#net = models.RNN(n_classes=3,dim=10,n_layers=2)\n",
        "maml = l2l.algorithms.MAML(net, lr=5e-3)\n",
        "#maml = l2l.algorithms.MAML(net0, lr=5e-2)\n",
        "optimizer = optim.Adam(maml.parameters(),lr=5e-4)\n",
        "lossfn = torch.nn.NLLLoss()\n",
        "meta_train_kloader=KShotLoader(meta_train_ds,shots=shots,ways=ways,num_tasks=1000)"
      ]
    },
    {
      "cell_type": "code",
      "execution_count": 7,
      "metadata": {
        "id": "J_3VNvEd1dhX"
      },
      "outputs": [],
      "source": [
        "# Number of epochs, tasks per step and number of fast_adaptation steps \n",
        "n_epochs=50\n",
        "task_count=32\n",
        "fas = 5"
      ]
    },
    {
      "cell_type": "markdown",
      "metadata": {
        "id": "pt_FkjsR1dhX"
      },
      "source": [
        "Note: In practice we use more than one gradient step for adpation, this is called 'fast adaptation'."
      ]
    },
    {
      "cell_type": "code",
      "execution_count": 8,
      "metadata": {},
      "outputs": [],
      "source": [
        "loss_list = []\n",
        "acc_list  = []"
      ]
    },
    {
      "cell_type": "code",
      "execution_count": null,
      "metadata": {
        "id": "tf3v38Np1dhX"
      },
      "outputs": [],
      "source": [
        "epoch=0\n",
        "while epoch<n_epochs:\n",
        "    adapt_loss = 0.0\n",
        "    test_acc = 0.0\n",
        "    # Sample and train on a task\n",
        "    for task in range(task_count):\n",
        "        d_train,d_test=meta_train_kloader.get_task()\n",
        "        print(d_train[1])\n",
        "        learner = maml.clone()\n",
        "        for fas_step in range(fas):\n",
        "            train_preds = learner(d_train[0])\n",
        "            train_loss = lossfn(train_preds,d_train[1])\n",
        "            learner.adapt(train_loss)\n",
        "        test_preds = learner(d_test[0])\n",
        "        adapt_loss += lossfn(test_preds,d_test[1])\n",
        "        learner.eval()\n",
        "        test_acc += models.accuracy(learner,d_test[0],d_test[1],verbose=False)\n",
        "        learner.train()\n",
        "        # Done with a task\n",
        "    # Update main network\n",
        "    print('Epoch  % 2d Loss: %2.5e Avg Acc: %2.5f'%(epoch,adapt_loss/task_count,test_acc/task_count))\n",
        "\n",
        "    loss_list.append(adapt_loss/task_count)\n",
        "    acc_list.append(test_acc/task_count)\n",
        "    display.clear_output(wait=True)\n",
        "    optimizer.zero_grad()\n",
        "    total_loss = adapt_loss\n",
        "    total_loss.backward()\n",
        "    optimizer.step()\n",
        "    epoch+=1\n",
        "    "
      ]
    },
    {
      "cell_type": "code",
      "execution_count": 35,
      "metadata": {},
      "outputs": [
        {
          "data": {
            "image/png": "[encoded data removed]",
            "text/plain": [
              "<Figure size 720x432 with 1 Axes>"
            ]
          },
          "metadata": {
            "needs_background": "light"
          },
          "output_type": "display_data"
        },
        {
          "data": {
            "image/png": "[encoded data removed]",
            "text/plain": [
              "<Figure size 720x432 with 1 Axes>"
            ]
          },
          "metadata": {
            "needs_background": "light"
          },
          "output_type": "display_data"
        }
      ],
      "source": [
        "# plotting accuracy and loss\n",
        "import matplotlib.pyplot as plt\n",
        "\n",
        "plt.figure(figsize=(10,6))\n",
        "plt.plot(acc_list)\n",
        "plt.xlabel(\"Iterations\")\n",
        "plt.ylabel(\"Accuracy\")\n",
        "plt.title(\"Iteration vs Accuracy plot\")\n",
        "plt.show()\n",
        "\n",
        "plt.figure(figsize=(10,6))\n",
        "plt.plot(loss_list)\n",
        "plt.xlabel(\"Iterations\")\n",
        "plt.ylabel(\"Loss\")\n",
        "plt.title(\"Iteration vs Loss plot\")\n",
        "plt.show()"
      ]
    },
    {
      "cell_type": "markdown",
      "metadata": {
        "id": "MnidveAw1dhX"
      },
      "source": [
        "Now test the trained maml network and applying the adaption step to tasks sampled from the meta_test_ds dataset:"
      ]
    },
    {
      "cell_type": "code",
      "execution_count": 34,
      "metadata": {
        "id": "Rokj6qo21dhX"
      },
      "outputs": [
        {
          "name": "stdout",
          "output_type": "stream",
          "text": [
            "Avg Acc: 0.85400\n"
          ]
        }
      ],
      "source": [
        "meta_test_kloader=KShotLoader(meta_test_ds,shots=shots,ways=ways)\n",
        "test_acc = 0.0\n",
        "task_count = 20\n",
        "adapt_steps = 5\n",
        "maml.eval()\n",
        "# Sample and train on a task\n",
        "for task in range(task_count):\n",
        "    d_train,d_test=meta_test_kloader.get_task()\n",
        "    learner = maml.clone()\n",
        "    learner.eval()\n",
        "    for adapt_step in range(adapt_steps):\n",
        "        train_preds = learner(d_train[0])\n",
        "        train_loss = lossfn(train_preds,d_train[1])\n",
        "        learner.adapt(train_loss)\n",
        "    test_preds = learner(d_test[0])\n",
        "    test_acc += models.accuracy(learner,d_test[0],d_test[1],verbose=False)\n",
        "    # Done with a task\n",
        "#learner.train()\n",
        "print('Avg Acc: %2.5f'%(test_acc/task_count))"
      ]
    },
    {
      "cell_type": "code",
      "execution_count": 33,
      "metadata": {},
      "outputs": [
        {
          "data": {
            "text/plain": [
              "224.9"
            ]
          },
          "execution_count": 33,
          "metadata": {},
          "output_type": "execute_result"
        }
      ],
      "source": [
        "24.6 + 18.1 + 15.8 + 16.5 + 15.5 + 15.5 + 17.9 + 17.5 + 17.5 + 17.1 + 16.4 + 16.3 + 16.2\n",
        "# 27.6 30.4 44.25 60.5 79.62 81.5 86"
      ]
    }
  ],
  "metadata": {
    "accelerator": "GPU",
    "colab": {
      "include_colab_link": true,
      "name": "nb2.ipynb",
      "provenance": []
    },
    "kernelspec": {
      "display_name": "Python 3 (ipykernel)",
      "language": "python",
      "name": "python3"
    },
    "language_info": {
      "codemirror_mode": {
        "name": "ipython",
        "version": 3
      },
      "file_extension": ".py",
      "mimetype": "text/x-python",
      "name": "python",
      "nbconvert_exporter": "python",
      "pygments_lexer": "ipython3",
      "version": "3.8.3"
    }
  },
  "nbformat": 4,
  "nbformat_minor": 0
}
