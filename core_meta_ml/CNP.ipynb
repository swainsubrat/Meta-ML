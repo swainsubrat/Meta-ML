{
  "cells": [
    {
      "cell_type": "markdown",
      "metadata": {
        "colab_type": "text",
        "id": "view-in-github"
      },
      "source": [
        "<a href=\"https://colab.research.google.com/github/gmshroff/metaLearning2022/blob/main/code/nb3_CNP.ipynb\" target=\"_parent\"><img src=\"https://colab.research.google.com/assets/colab-badge.svg\" alt=\"Open In Colab\"/></a>"
      ]
    },
    {
      "cell_type": "markdown",
      "metadata": {
        "id": "Ll1SI6URByZo"
      },
      "source": [
        "# MODEL-BASED META-LEARNING USING \n",
        "\n",
        "# Conditional Neural Processes"
      ]
    },
    {
      "cell_type": "code",
      "execution_count": 1,
      "metadata": {
        "id": "bSKqg6jCByZq"
      },
      "outputs": [],
      "source": [
        "# !pip install import_ipynb --quiet"
      ]
    },
    {
      "cell_type": "code",
      "execution_count": 2,
      "metadata": {
        "id": "IzSwk8HKByZr"
      },
      "outputs": [],
      "source": [
        "# !pip install learn2learn --quiet"
      ]
    },
    {
      "cell_type": "code",
      "execution_count": 3,
      "metadata": {
        "id": "4U7an5GsDF28"
      },
      "outputs": [],
      "source": [
        "# import requests"
      ]
    },
    {
      "cell_type": "code",
      "execution_count": 4,
      "metadata": {
        "id": "Y_Nar6deC_5q"
      },
      "outputs": [],
      "source": [
        "# r=requests.get(\"https://github.com/gmshroff/metaLearning2022/blob/main/code/utils.ipynb?raw=true\")\n",
        "# with open('./utils.ipynb','wb') as f: f.write(r.content)"
      ]
    },
    {
      "cell_type": "code",
      "execution_count": 5,
      "metadata": {
        "id": "UIoTddg_DBF2"
      },
      "outputs": [],
      "source": [
        "# r=requests.get(\"https://github.com/gmshroff/metaLearning2022/blob/main/code/l2lutils.ipynb?raw=true\")\n",
        "# with open('./l2lutils.ipynb','wb') as f: f.write(r.content)"
      ]
    },
    {
      "cell_type": "code",
      "execution_count": 2,
      "metadata": {
        "id": "sj8JQJhkByZr"
      },
      "outputs": [
        {
          "name": "stdout",
          "output_type": "stream",
          "text": [
            "importing Jupyter notebook from utils.ipynb\n"
          ]
        }
      ],
      "source": [
        "import import_ipynb\n",
        "import utils"
      ]
    },
    {
      "cell_type": "code",
      "execution_count": 3,
      "metadata": {
        "id": "jl7x70q9ByZr"
      },
      "outputs": [
        {
          "name": "stdout",
          "output_type": "stream",
          "text": [
            "importing Jupyter notebook from l2lutils.ipynb\n"
          ]
        },
        {
          "name": "stderr",
          "output_type": "stream",
          "text": [
            "\n"
          ]
        }
      ],
      "source": [
        "from IPython import display\n",
        "import torch\n",
        "from sklearn.manifold import TSNE\n",
        "from matplotlib import pyplot as plt\n",
        "from l2lutils import KShotLoader\n",
        "from IPython import display"
      ]
    },
    {
      "cell_type": "markdown",
      "metadata": {
        "id": "VriAnx2DByZr"
      },
      "source": [
        "This CNP is the class you need to write for HW2"
      ]
    },
    {
      "cell_type": "code",
      "execution_count": 1,
      "metadata": {
        "id": "eU5uDz4FCLKB"
      },
      "outputs": [],
      "source": [
        "# from google.colab import drive\n",
        "# drive.mount('/content/drive')\n",
        "# %ls drive/MyDrive/'Colab Notebooks'"
      ]
    },
    {
      "cell_type": "code",
      "execution_count": 2,
      "metadata": {
        "id": "pp9Fo8UaCMKx"
      },
      "outputs": [],
      "source": [
        "# !cp drive/MyDrive/'Colab Notebooks'/models.ipynb .\n",
        "# !cp drive/MyDrive/'Colab Notebooks'/CNP.ipynb ."
      ]
    },
    {
      "cell_type": "code",
      "execution_count": 3,
      "metadata": {
        "id": "Uf8vhZwyByZs"
      },
      "outputs": [
        {
          "name": "stdout",
          "output_type": "stream",
          "text": [
            "importing Jupyter notebook from models.ipynb\n"
          ]
        }
      ],
      "source": [
        "from CNP import CNP"
      ]
    },
    {
      "cell_type": "code",
      "execution_count": 4,
      "metadata": {
        "id": "WO-vJjZJDoD_"
      },
      "outputs": [],
      "source": [
        "import models"
      ]
    },
    {
      "cell_type": "markdown",
      "metadata": {
        "id": "UVQQrbWhByZs"
      },
      "source": [
        "# Data Generation/Loading"
      ]
    },
    {
      "cell_type": "code",
      "execution_count": 4,
      "metadata": {
        "id": "bvnF8dWGByZt"
      },
      "outputs": [],
      "source": [
        "#Generate data - euclidean\n",
        "meta_train_ds, meta_test_ds, full_loader = utils.euclideanDataset(n_samples=10000,n_features=20,n_classes=10,batch_size=32)"
      ]
    },
    {
      "cell_type": "code",
      "execution_count": 8,
      "metadata": {},
      "outputs": [
        {
          "data": {
            "text/plain": [
              "(tensor([ 3.9403, -0.1496,  3.0716, -3.9488,  6.1080, -1.1698,  1.1856,  3.3844,\n",
              "         -2.3111,  4.4123,  3.1820,  1.9553,  1.8277,  0.8133, -1.0793, -5.5694,\n",
              "          2.0955,  1.7963,  2.0716,  0.1909]),\n",
              " tensor(8))"
            ]
          },
          "execution_count": 8,
          "metadata": {},
          "output_type": "execute_result"
        }
      ],
      "source": [
        "meta_train_ds[0]"
      ]
    },
    {
      "cell_type": "code",
      "execution_count": 14,
      "metadata": {
        "id": "G46qzX5AByZt"
      },
      "outputs": [],
      "source": [
        "# Define an MLP network. Note that input dimension has to be data dimension. For classification\n",
        "# final dimension has to be number of classes; for regression one.\n",
        "#torch.manual_seed(10)\n",
        "net = models.MLP(dims=[20,64,10])"
      ]
    },
    {
      "cell_type": "code",
      "execution_count": 15,
      "metadata": {
        "id": "Fv7RW17AByZt"
      },
      "outputs": [
        {
          "name": "stdout",
          "output_type": "stream",
          "text": [
            "Epoch   19 Loss: 9.11859e-02 Accuracy: 0.98604\n"
          ]
        }
      ],
      "source": [
        "# Train the network; note that network is trained in place so repeated calls further train it.\n",
        "net,losses,accs=models.Train(net,full_loader,lr=1e-2,epochs=20,verbose=True)"
      ]
    },
    {
      "cell_type": "code",
      "execution_count": 16,
      "metadata": {
        "id": "oUnHS4CRByZt"
      },
      "outputs": [
        {
          "name": "stdout",
          "output_type": "stream",
          "text": [
            "7404.0 7500\n"
          ]
        },
        {
          "data": {
            "text/plain": [
              "0.9872"
            ]
          },
          "execution_count": 16,
          "metadata": {},
          "output_type": "execute_result"
        }
      ],
      "source": [
        "#Training accuracy.\n",
        "models.accuracy(net,meta_train_ds.samples,meta_train_ds.labels,verbose=True)"
      ]
    },
    {
      "cell_type": "code",
      "execution_count": 17,
      "metadata": {
        "id": "NXpJYfTIByZu"
      },
      "outputs": [
        {
          "name": "stdout",
          "output_type": "stream",
          "text": [
            "2423.0 2500\n"
          ]
        },
        {
          "data": {
            "text/plain": [
              "0.9692"
            ]
          },
          "execution_count": 17,
          "metadata": {},
          "output_type": "execute_result"
        }
      ],
      "source": [
        "# Test accuracy.\n",
        "models.accuracy(net,meta_test_ds.samples,meta_test_ds.labels)"
      ]
    },
    {
      "cell_type": "markdown",
      "metadata": {
        "id": "-B9Ug1wnByZu"
      },
      "source": [
        "# Meta-Learning: Tasks"
      ]
    },
    {
      "cell_type": "markdown",
      "metadata": {
        "id": "HKkMkA5qByZu"
      },
      "source": [
        "Generate a k-shot n-way loader using the meta-training dataset"
      ]
    },
    {
      "cell_type": "code",
      "execution_count": 20,
      "metadata": {
        "id": "H5lWAqjgByZu"
      },
      "outputs": [],
      "source": [
        "meta_train_kloader=KShotLoader(meta_train_ds,shots=5,ways=2)"
      ]
    },
    {
      "cell_type": "markdown",
      "metadata": {
        "id": "AjuDjduoByZu"
      },
      "source": [
        "Sample a task - each task has a k-shot n-way training set and a similar test set"
      ]
    },
    {
      "cell_type": "code",
      "execution_count": 21,
      "metadata": {
        "id": "XJK8A_nDByZu"
      },
      "outputs": [],
      "source": [
        "d_train,d_test=meta_train_kloader.get_task()"
      ]
    },
    {
      "cell_type": "markdown",
      "metadata": {
        "id": "Zti07reDByZu"
      },
      "source": [
        "Let's try directly learning using the task training set albeit its small size: create a dataset and loader and train it with the earlier network and Train function."
      ]
    },
    {
      "cell_type": "code",
      "execution_count": 22,
      "metadata": {
        "id": "X0kU4wF7ByZv"
      },
      "outputs": [],
      "source": [
        "taskds = utils.MyDS(d_train[0],d_train[1])"
      ]
    },
    {
      "cell_type": "code",
      "execution_count": 26,
      "metadata": {
        "id": "_xnQmzuZByZv"
      },
      "outputs": [],
      "source": [
        "d_train_loader = torch.utils.data.DataLoader(dataset=taskds,batch_size=1,shuffle=True)"
      ]
    },
    {
      "cell_type": "code",
      "execution_count": 33,
      "metadata": {
        "id": "SV-w0LneByZv"
      },
      "outputs": [
        {
          "name": "stdout",
          "output_type": "stream",
          "text": [
            "Epoch   9 Loss: 1.73930e-04 Accuracy: 1.00000\n"
          ]
        }
      ],
      "source": [
        "net,losses,accs=models.Train(net,d_train_loader,lr=1e-1,epochs=10,verbose=True)"
      ]
    },
    {
      "cell_type": "markdown",
      "metadata": {
        "id": "3hR86ui6ByZv"
      },
      "source": [
        "How does it do on the test set of the sampled task?"
      ]
    },
    {
      "cell_type": "code",
      "execution_count": 34,
      "metadata": {},
      "outputs": [
        {
          "name": "stdout",
          "output_type": "stream",
          "text": [
            "9.0 10\n"
          ]
        },
        {
          "data": {
            "text/plain": [
              "0.9"
            ]
          },
          "execution_count": 34,
          "metadata": {},
          "output_type": "execute_result"
        }
      ],
      "source": [
        "models.accuracy(net, d_test[0], d_test[1])"
      ]
    },
    {
      "cell_type": "markdown",
      "metadata": {
        "id": "LXuebzBnByZv"
      },
      "source": [
        "# CNP-based  Meta-learning"
      ]
    },
    {
      "cell_type": "code",
      "execution_count": 6,
      "metadata": {
        "id": "7wN67LLrByZv"
      },
      "outputs": [],
      "source": [
        "# optimisers from torch\n",
        "import torch.optim as optim\n",
        "import torch.nn.functional as F"
      ]
    },
    {
      "cell_type": "code",
      "execution_count": 36,
      "metadata": {
        "id": "Ow-hS_ekByZv"
      },
      "outputs": [],
      "source": [
        "lossfn = torch.nn.NLLLoss()"
      ]
    },
    {
      "cell_type": "markdown",
      "metadata": {
        "id": "ybgupTGbByZv"
      },
      "source": [
        "Get a task dataset."
      ]
    },
    {
      "cell_type": "code",
      "execution_count": 37,
      "metadata": {
        "id": "-RtPRjNjByZv"
      },
      "outputs": [],
      "source": [
        "meta_train_kloader=KShotLoader(meta_train_ds,shots=5,ways=2,num_tasks=1000)"
      ]
    },
    {
      "cell_type": "code",
      "execution_count": 38,
      "metadata": {
        "id": "cAqebexhByZv"
      },
      "outputs": [],
      "source": [
        "d_train,d_test = meta_train_kloader.get_task()"
      ]
    },
    {
      "cell_type": "code",
      "execution_count": 128,
      "metadata": {
        "id": "NQKkJCBxByZv"
      },
      "outputs": [],
      "source": [
        "from CNP import CNP\n",
        "net = CNP(n_features=20, dims=[32, 64, 32], n_ways=5, n_classes=2)"
      ]
    },
    {
      "cell_type": "code",
      "execution_count": null,
      "metadata": {
        "id": "GuA-U8adByZv"
      },
      "outputs": [],
      "source": [
        "print(net.mlp1, net.mlp2)"
      ]
    },
    {
      "cell_type": "code",
      "execution_count": null,
      "metadata": {
        "id": "YoesxgpEByZv"
      },
      "outputs": [],
      "source": [
        "torch.eye(2)[d_train[1]] "
      ]
    },
    {
      "cell_type": "code",
      "execution_count": 129,
      "metadata": {
        "id": "p2T_k60hByZw"
      },
      "outputs": [
        {
          "data": {
            "text/plain": [
              "torch.Size([64])"
            ]
          },
          "execution_count": 129,
          "metadata": {},
          "output_type": "execute_result"
        }
      ],
      "source": [
        "# r,m,R = net.adapt(d_train[0],d_train[1])\n",
        "# r.shape,m.shape,R.shape\n",
        "\n",
        "r = net.adapt(d_train[0], d_train[1])\n",
        "r.shape"
      ]
    },
    {
      "cell_type": "code",
      "execution_count": null,
      "metadata": {
        "id": "CaxLSxa6ByZw"
      },
      "outputs": [],
      "source": [
        "m"
      ]
    },
    {
      "cell_type": "code",
      "execution_count": 132,
      "metadata": {
        "id": "s2AB0EFWByZw"
      },
      "outputs": [
        {
          "data": {
            "text/plain": [
              "tensor([[-0.6583, -0.7293],\n",
              "        [-0.7052, -0.6813],\n",
              "        [-0.6663, -0.7207],\n",
              "        [-0.7328, -0.6550],\n",
              "        [-0.6324, -0.7578],\n",
              "        [-0.6304, -0.7601],\n",
              "        [-0.7175, -0.6694],\n",
              "        [-0.7031, -0.6833],\n",
              "        [-0.6581, -0.7294],\n",
              "        [-0.7353, -0.6527]], grad_fn=<LogSoftmaxBackward0>)"
            ]
          },
          "execution_count": 132,
          "metadata": {},
          "output_type": "execute_result"
        }
      ],
      "source": [
        "net(d_test[0], r)"
      ]
    },
    {
      "cell_type": "markdown",
      "metadata": {
        "id": "GCTzq-_qByZw"
      },
      "source": [
        "# Putting it all together: CNP-based Meta-learning\n",
        "Now let's put it together in a loop - CNP model-based meta-learning algorithm:"
      ]
    },
    {
      "cell_type": "code",
      "execution_count": 7,
      "metadata": {
        "id": "kBEzvjuDByZw"
      },
      "outputs": [],
      "source": [
        "# Redifning accuracy function so that it takes h - dataset context - as input since net requires it.\n",
        "def accuracy(Net,X_test,y_test,h,verbose=True):\n",
        "    #Net.eval()\n",
        "    m = X_test.shape[0]\n",
        "    y_pred = Net(X_test,h)\n",
        "    _, predicted = torch.max(y_pred, 1)\n",
        "    correct = (predicted == y_test).float().sum().item()\n",
        "    if verbose: print(correct,m)\n",
        "    accuracy = correct/m\n",
        "    #Net.train()\n",
        "    return accuracy"
      ]
    },
    {
      "cell_type": "code",
      "execution_count": 63,
      "metadata": {
        "id": "3AcFSWcJByZw"
      },
      "outputs": [
        {
          "data": {
            "text/plain": [
              "([0, 1, 2, 3, 4], [3, 4, 5, 6, 7])"
            ]
          },
          "execution_count": 63,
          "metadata": {},
          "output_type": "execute_result"
        }
      ],
      "source": [
        "classes_train = [i for i in range(5)]\n",
        "classes_test = [i+3 for i in range(5)]\n",
        "classes_train, classes_test"
      ]
    },
    {
      "cell_type": "code",
      "execution_count": 64,
      "metadata": {
        "id": "2n7zKylWByZw"
      },
      "outputs": [],
      "source": [
        "import learn2learn as l2l\n",
        "import torch.optim as optim\n",
        "\n",
        "from CNP import CNP\n",
        "\n",
        "shots,ways = 5,2\n",
        "net = CNP(n_features=20,n_classes=ways,dims=[32,64,32],lr=1e-4,n_ways=5)\n",
        "lossfn = torch.nn.NLLLoss()\n",
        "meta_train_kloader=KShotLoader(meta_train_ds,shots=shots,ways=ways,num_tasks=1000, classes=classes_train)"
      ]
    },
    {
      "cell_type": "code",
      "execution_count": 65,
      "metadata": {
        "id": "BpDHjSkCByZw"
      },
      "outputs": [],
      "source": [
        "#Meta-testing task loader for later.\n",
        "meta_test_kloader=KShotLoader(meta_test_ds,shots=shots,ways=ways, classes=classes_test)"
      ]
    },
    {
      "cell_type": "code",
      "execution_count": 66,
      "metadata": {},
      "outputs": [],
      "source": [
        "loss_list = []\n",
        "acc_list  = []"
      ]
    },
    {
      "cell_type": "code",
      "execution_count": 69,
      "metadata": {
        "id": "UxwekpNiByZw"
      },
      "outputs": [
        {
          "name": "stdout",
          "output_type": "stream",
          "text": [
            "Epoch   99 Loss: 4.10933e-01 Avg Acc: 0.87400\n"
          ]
        }
      ],
      "source": [
        "epoch=0\n",
        "n_epochs=100\n",
        "task_count=50\n",
        "while epoch<n_epochs:\n",
        "    test_loss = 0.0\n",
        "    test_acc = 0.0\n",
        "    # Sample and train on a task\n",
        "    for task in range(task_count):\n",
        "        d_train,d_test=meta_train_kloader.get_task()\n",
        "        rp = torch.randperm(d_train[1].shape[0])\n",
        "        d_train0=d_train[0][rp]\n",
        "        d_train1=d_train[1][rp]\n",
        "        x_tr = d_train0\n",
        "        d_tr = x_tr \n",
        "        h = net.adapt(d_tr,d_train1)\n",
        "        rp1 = torch.randperm(d_test[1].shape[0])\n",
        "        d_test0=d_test[0][rp1]\n",
        "        d_test1=d_test[1][rp1]\n",
        "        x_ts = d_test0\n",
        "        y_ts_sh = torch.zeros(x_ts.shape[0],ways)\n",
        "        d_ts = x_ts \n",
        "        test_preds = net(d_ts,h)\n",
        "        #train_preds = net(d_tr,h)\n",
        "        # Accumulate losses over tasks - note train and test loss both included\n",
        "        test_loss += lossfn(test_preds,d_test1)#+lossfn(train_preds,d_train1)\n",
        "        net.eval()\n",
        "        test_acc += accuracy(net,d_ts,d_test1,h,verbose=False)\n",
        "        net.train()\n",
        "    #Update the network weights\n",
        "    print('Epoch  % 2d Loss: %2.5e Avg Acc: %2.5f'%(epoch,test_loss/task_count,test_acc/task_count))\n",
        "\n",
        "    loss_list.append(test_loss/task_count)\n",
        "    acc_list.append(test_acc/task_count)\n",
        "    display.clear_output(wait=True)\n",
        "    net.optimizer.zero_grad()\n",
        "    test_loss.backward()\n",
        "    net.optimizer.step()\n",
        "    epoch+=1\n",
        "    "
      ]
    },
    {
      "cell_type": "markdown",
      "metadata": {
        "id": "eFJLYqasByZw"
      },
      "source": [
        "Now test the trained CNP network and to tasks sampled from the meta_test_ds dataset:"
      ]
    },
    {
      "cell_type": "code",
      "execution_count": 70,
      "metadata": {
        "id": "2-8ny7G1ByZw"
      },
      "outputs": [
        {
          "name": "stdout",
          "output_type": "stream",
          "text": [
            "Avg Acc: 0.63600\n"
          ]
        }
      ],
      "source": [
        "meta_test_kloader=KShotLoader(meta_test_ds,shots=shots,ways=ways, classes=classes_test)\n",
        "test_acc = 0.0\n",
        "task_count = 50\n",
        "adapt_steps = 1\n",
        "# Sample and train on a task\n",
        "for task in range(task_count):\n",
        "    d_train,d_test=meta_test_kloader.get_task()\n",
        "    x_tr = d_train[0]\n",
        "    y_tr_sh = torch.cat((torch.zeros(1,ways),torch.eye(ways)[d_train[1][1:]]))\n",
        "    d_tr = x_tr #torch.cat((x_tr,y_tr_sh),1)\n",
        "    h=net.adapt(d_tr,d_train[1])\n",
        "    x_ts = d_test[0]\n",
        "    y_ts_sh = torch.zeros(x_ts.shape[0],ways)\n",
        "    d_ts = x_ts #torch.cat((x_ts,y_ts_sh),1)\n",
        "    test_preds = net(d_ts,h)\n",
        "    test_acc += accuracy(net,d_ts,d_test[1],h,verbose=False)\n",
        "    # Done with a task\n",
        "net.train()\n",
        "print('Avg Acc: %2.5f'%(test_acc/task_count))"
      ]
    },
    {
      "cell_type": "code",
      "execution_count": 15,
      "metadata": {},
      "outputs": [
        {
          "data": {
            "image/png": "[encoded data removed]",
            "text/plain": [
              "<Figure size 720x432 with 1 Axes>"
            ]
          },
          "metadata": {
            "needs_background": "light"
          },
          "output_type": "display_data"
        },
        {
          "data": {
            "image/png": "[encoded data removed]",
            "text/plain": [
              "<Figure size 720x432 with 1 Axes>"
            ]
          },
          "metadata": {
            "needs_background": "light"
          },
          "output_type": "display_data"
        }
      ],
      "source": [
        "# plotting accuracy and loss\n",
        "import matplotlib.pyplot as plt\n",
        "\n",
        "plt.figure(figsize=(10,6))\n",
        "plt.plot(acc_list)\n",
        "plt.xlabel(\"Iterations\")\n",
        "plt.ylabel(\"Accuracy\")\n",
        "plt.title(\"Iteration vs Accuracy plot\")\n",
        "plt.show()\n",
        "\n",
        "plt.figure(figsize=(10,6))\n",
        "plt.plot(loss_list)\n",
        "plt.xlabel(\"Iterations\")\n",
        "plt.ylabel(\"Loss\")\n",
        "plt.title(\"Iteration vs Loss plot\")\n",
        "plt.show()"
      ]
    },
    {
      "cell_type": "code",
      "execution_count": null,
      "metadata": {},
      "outputs": [],
      "source": []
    }
  ],
  "metadata": {
    "accelerator": "GPU",
    "colab": {
      "collapsed_sections": [],
      "include_colab_link": true,
      "name": "nb3-CNP.ipynb",
      "provenance": []
    },
    "kernelspec": {
      "display_name": "Python 3 (ipykernel)",
      "language": "python",
      "name": "python3"
    },
    "language_info": {
      "codemirror_mode": {
        "name": "ipython",
        "version": 3
      },
      "file_extension": ".py",
      "mimetype": "text/x-python",
      "name": "python",
      "nbconvert_exporter": "python",
      "pygments_lexer": "ipython3",
      "version": "3.8.3"
    }
  },
  "nbformat": 4,
  "nbformat_minor": 0
}
